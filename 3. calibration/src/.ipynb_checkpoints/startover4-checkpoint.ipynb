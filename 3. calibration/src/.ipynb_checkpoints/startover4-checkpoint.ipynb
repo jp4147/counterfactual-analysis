{
 "cells": [
  {
   "cell_type": "code",
   "execution_count": 6,
   "id": "48388eda-f6ba-4728-8959-89cf49466795",
   "metadata": {},
   "outputs": [],
   "source": [
    "def rate_to_prob(rate, time):\n",
    "\t# Converts rate into a probability\n",
    "    prob = 1 - np.exp(-abs(rate) * time)\n",
    "    return prob\n",
    "\n",
    "def prob_to_rate(prob, time):\n",
    "\t# Converts probability to rate\n",
    "    rate = -(np.log(1 - prob)) / time\n",
    "    return rate\n",
    "\n",
    "def annual_prob_to_monthly_prob(yearly_prob):\n",
    "    # Converts annual probability to monthly probability\n",
    "    return 1 - (1 - yearly_prob) ** (1/12)"
   ]
  },
  {
   "cell_type": "code",
   "execution_count": 40,
   "id": "1294050d-40ab-42dc-b464-eeb2b3eb04da",
   "metadata": {},
   "outputs": [
    {
     "data": {
      "text/plain": [
       "1.0"
      ]
     },
     "execution_count": 40,
     "metadata": {},
     "output_type": "execute_result"
    }
   ],
   "source": [
    "annual_prob_to_monthly_prob(1)"
   ]
  },
  {
   "cell_type": "code",
   "execution_count": 7,
   "id": "fb330cad-afcb-4951-8a82-b6776d39a7fa",
   "metadata": {},
   "outputs": [],
   "source": [
    "#Localized: 0.394, Regional: 0.133, Distant: 0.029\n",
    "def survival2mortality_prob(prob, year):\n",
    "    yearly_survival_rate=cf.prob_to_rate(prob,year)\n",
    "    yearly_mortality_rate=1-yearly_survival_rate\n",
    "    yearly_mortality_prob=cf.rate_to_prob(yearly_mortality_rate, 1)\n",
    "    \n",
    "    return yearly_mortality_prob"
   ]
  },
  {
   "cell_type": "code",
   "execution_count": null,
   "id": "3368d69b-8335-43f4-9cb0-1d982592370e",
   "metadata": {},
   "outputs": [],
   "source": [
    "5 year survival 40% -> 5 year death 60%"
   ]
  },
  {
   "cell_type": "code",
   "execution_count": 13,
   "id": "1aca52b6-90b5-4b3d-b1c8-b42c6d0e4004",
   "metadata": {},
   "outputs": [
    {
     "data": {
      "text/plain": [
       "0.1674467925981269"
      ]
     },
     "execution_count": 13,
     "metadata": {},
     "output_type": "execute_result"
    }
   ],
   "source": [
    "rate_to_prob(prob_to_rate(0.6, 5),1)"
   ]
  },
  {
   "cell_type": "code",
   "execution_count": null,
   "id": "ce21039c-76ff-4be6-af97-30a1c540caa9",
   "metadata": {},
   "outputs": [],
   "source": [
    "rate_to_prob(prob_to_rate(0.6, 5),1)"
   ]
  },
  {
   "cell_type": "code",
   "execution_count": 49,
   "id": "c38c159b-041f-48c6-a38f-880f241817f2",
   "metadata": {},
   "outputs": [],
   "source": [
    "data = {\n",
    "  \"calories\": [420, 380, 390],\n",
    "  \"duration\": [50, 40, 45]\n",
    "}\n",
    "\n",
    "df1 = pd.DataFrame(data, index = [\"day1\", \"day2\", \"day3\"])\n",
    "\n",
    "data = {\n",
    "  \"calories\": [4, 3, 39],\n",
    "  \"duration\": [0, 4, 4]\n",
    "}\n",
    "\n",
    "df2 = pd.DataFrame(data, index = [\"day1\", \"day2\", \"day3\"])\n",
    "\n",
    "data = {\n",
    "  \"calories\": [9, 87, 78],\n",
    "  \"duration\": [1, 12, 52]\n",
    "}\n",
    "\n",
    "df3 = pd.DataFrame(data, index = [\"day1\", \"day2\", \"day3\"])\n",
    "\n",
    "\n",
    "test={}\n",
    "test[0] = df1\n",
    "test[1] = df2\n",
    "test[2] = df2\n",
    "\n",
    "# test[0].loc['day1','calories'] = 2"
   ]
  },
  {
   "cell_type": "code",
   "execution_count": 50,
   "id": "6421f498-c45e-4922-9ce8-caadb7a97eb8",
   "metadata": {},
   "outputs": [
    {
     "data": {
      "text/plain": [
       "{0:       calories  duration\n",
       " day1       420        50\n",
       " day2       380        40\n",
       " day3       390        45,\n",
       " 1:       calories  duration\n",
       " day1         4         0\n",
       " day2         3         4\n",
       " day3        39         4,\n",
       " 2:       calories  duration\n",
       " day1         4         0\n",
       " day2         3         4\n",
       " day3        39         4}"
      ]
     },
     "execution_count": 50,
     "metadata": {},
     "output_type": "execute_result"
    }
   ],
   "source": [
    "test"
   ]
  },
  {
   "cell_type": "code",
   "execution_count": 51,
   "id": "ee6e0236-5a9f-462a-945f-7d1e2094cd1d",
   "metadata": {},
   "outputs": [
    {
     "name": "stdout",
     "output_type": "stream",
     "text": [
      "0\n",
      "1\n",
      "2\n"
     ]
    }
   ],
   "source": [
    "for age in range(3):\n",
    "    if age < 1:\n",
    "        test[age].loc['day1','calories'] = -4\n",
    "        print(age)\n",
    "    elif age < 2:\n",
    "        test[age].loc['day1','calories'] = -100\n",
    "        print(age)\n",
    "    else:\n",
    "        test[age].loc['day1','calories'] = -1\n",
    "        print(age)"
   ]
  },
  {
   "cell_type": "code",
   "execution_count": 52,
   "id": "b275837c-f996-496a-a347-87d5ca9979b0",
   "metadata": {},
   "outputs": [
    {
     "data": {
      "text/plain": [
       "{0:       calories  duration\n",
       " day1        -4        50\n",
       " day2       380        40\n",
       " day3       390        45,\n",
       " 1:       calories  duration\n",
       " day1        -1         0\n",
       " day2         3         4\n",
       " day3        39         4,\n",
       " 2:       calories  duration\n",
       " day1        -1         0\n",
       " day2         3         4\n",
       " day3        39         4}"
      ]
     },
     "execution_count": 52,
     "metadata": {},
     "output_type": "execute_result"
    }
   ],
   "source": [
    "test"
   ]
  },
  {
   "cell_type": "markdown",
   "id": "052ec0c4-93e4-490c-8412-2c1aee09d551",
   "metadata": {
    "tags": []
   },
   "source": [
    "# run model"
   ]
  },
  {
   "cell_type": "code",
   "execution_count": 1,
   "id": "05cccdb0-d877-49f4-a2d2-b74aae4ce06f",
   "metadata": {},
   "outputs": [],
   "source": [
    "import main\n",
    "import configs as c\n",
    "import calibration as cal\n",
    "\n",
    "from timeit import default_timer as timer\n",
    "\n",
    "from datetime import timedelta\n",
    "from datetime import datetime\n",
    "\n",
    "import pandas as pd\n",
    "import matplotlib.pyplot as plt\n",
    "import numpy as np"
   ]
  },
  {
   "cell_type": "code",
   "execution_count": 2,
   "id": "c1391a86-47f5-4c42-9d4f-fc5279d98300",
   "metadata": {
    "tags": []
   },
   "outputs": [],
   "source": [
    "# 79309.73077651438\n",
    "# 19957.986336078873\n",
    "# 0.002751804274537956\n",
    "\n",
    "# 0.002751804274537956*10000000"
   ]
  },
  {
   "cell_type": "code",
   "execution_count": 3,
   "id": "addc6b98-0fdf-49d2-be00-7c9d070e1c20",
   "metadata": {},
   "outputs": [],
   "source": [
    "# list(range(18, 100, 5))[1:]"
   ]
  },
  {
   "cell_type": "code",
   "execution_count": null,
   "id": "bc852889-c0c6-45ad-b527-3bc74318177d",
   "metadata": {},
   "outputs": [
    {
     "name": "stdout",
     "output_type": "stream",
     "text": [
      "1.0 0 22510.567195637705\n",
      "1.0 1 22341.645610406405\n",
      "1.0 failed 22408.440918760512\n",
      "1.0 4 22131.443979937383\n",
      "1.0 5 22010.127003053727\n",
      "1.0 6 22011.095499467057\n",
      "1.0 7 21972.96982903111\n",
      "1.0 8 21666.258025512016\n",
      "1.0 9 21658.896337061422\n",
      "1.0 10 21450.807346935144\n",
      "1.0 12 21266.709874844295\n",
      "1.0 16 21157.839564333215\n",
      "1.0 19 21111.507821864714\n",
      "1.0 21 20887.83762398647\n",
      "1.0 26 20812.646345388494\n",
      "1.0 27 20642.76598441691\n",
      "1.0 32 20634.6462117927\n",
      "1.0 34 20408.806387296998\n",
      "1.0 37 19996.1248970742\n",
      "1.0 40 19696.71646284862\n",
      "1.0 42 19514.71462279949\n",
      "1.0 46 19466.494641284473\n",
      "1.0 48 19061.64130721096\n",
      "1.0 50 18761.411217220095\n",
      "1.0 57 18580.326001710037\n",
      "1.0 61 18304.498162402157\n",
      "1.0 62 17929.871275661077\n",
      "1.0 66 17921.358993838276\n",
      "1.0 72 17567.400409135385\n",
      "1.0 74 17352.169430091668\n",
      "1.0 75 17300.514075437073\n",
      "1.0 76 17142.81022861805\n",
      "1.0 77 16758.933397686393\n",
      "1.0 78 16685.53073767014\n",
      "1.0 81 16564.369841651216\n",
      "1.0 82 16344.474782440839\n",
      "1.0 83 16183.086986909262\n",
      "1.0 84 15897.93242419778\n",
      "1.0 85 15739.9483289303\n",
      "1.0 86 15376.39444148465\n",
      "1.0 88 15326.892528428347\n",
      "1.0 92 15019.260200719582\n",
      "1.0 93 14594.35235659296\n",
      "1.0 95 14155.657716498668\n",
      "1.0 96 14012.226220412613\n",
      "1.0 97 13836.452951450088\n",
      "1.0 98 13426.954035606428\n",
      "1.0 99 13250.376344340302\n",
      "0.9 failed 13298.575946063986\n",
      "0.9 2 13054.61221598017\n",
      "0.9 4 12956.455785434804\n",
      "0.9 6 12823.479939846184\n",
      "0.9 11 12655.23051015104\n",
      "0.9 12 12498.331672939137\n",
      "0.9 14 12410.77055817602\n",
      "0.9 18 12338.28681934512\n",
      "0.9 22 12173.973408663818\n",
      "0.9 25 12091.977749431537\n",
      "0.9 28 11985.688761303762\n",
      "0.9 31 11847.58111767679\n",
      "0.9 32 11770.942667843834\n",
      "0.9 34 11732.122165389808\n",
      "0.9 35 11666.974854439679\n",
      "0.9 36 11666.336489054003\n",
      "0.9 40 11666.66927180424\n",
      "0.9 44 11630.074194402878\n",
      "0.9 45 11617.790969755766\n",
      "0.9 48 11608.833431281344\n",
      "0.9 49 11587.648252622806\n",
      "0.9 51 11528.378699074492\n",
      "0.9 53 11495.306075106777\n",
      "0.9 57 11496.80578028641\n",
      "0.9 59 11492.18440909962\n",
      "0.9 62 11465.525891258725\n",
      "0.9 63 11449.052919991944\n",
      "0.9 65 11421.42923366443\n",
      "0.9 66 11420.0301724389\n",
      "0.9 68 11418.709777312975\n",
      "0.9 70 11415.512742221084\n",
      "0.9 74 11406.690695182113\n",
      "0.9 76 11402.672890252405\n",
      "0.9 78 11401.85115100279\n",
      "0.9 81 11399.902244738132\n",
      "0.9 83 11396.011144606298\n",
      "0.9 84 11395.163333377082\n",
      "0.9 86 11393.71551265437\n",
      "0.9 87 11392.78735846575\n",
      "0.9 88 11390.76635688359\n",
      "0.9 89 11387.14422193974\n",
      "0.9 90 11383.55881775956\n",
      "0.9 92 11384.355251504378\n",
      "0.9 93 11383.690390200298\n",
      "0.9 94 11380.13719500022\n",
      "0.9 95 11378.7881570487\n",
      "0.9 96 11378.94711345258\n",
      "0.9 97 11379.153537619803\n",
      "0.9 98 11376.760133405942\n",
      "0.81 0 11372.38904142932\n",
      "0.81 1 11371.796493278767\n",
      "0.81 failed 11373.184641381307\n",
      "0.81 9 11372.224247229753\n",
      "0.81 10 11372.94918652693\n",
      "0.81 11 11372.563434501692\n",
      "0.81 12 11371.966430646818\n",
      "0.81 14 11371.065257789454\n",
      "0.81 16 11371.427117484789\n",
      "0.81 17 11372.34165076621\n",
      "0.81 19 11371.45567230875\n",
      "0.81 21 11370.931536888582\n",
      "0.81 23 11368.435883049082\n",
      "0.81 25 11369.221650252453\n",
      "0.81 26 11371.360453766825\n",
      "0.81 29 11369.317120688205\n",
      "0.81 33 11369.563626112944\n",
      "0.81 34 11369.461418717916\n",
      "0.81 36 11367.024332329842\n",
      "0.81 40 11365.499401852047\n",
      "0.81 41 11365.283896379917\n",
      "0.81 42 11364.127246433882\n",
      "0.81 43 11364.643795639557\n",
      "0.81 44 11365.578132604154\n",
      "0.81 45 11365.828077251097\n",
      "0.81 46 11366.058735620692\n",
      "0.81 47 11365.910555246464\n",
      "0.81 48 11365.412838583034\n",
      "0.81 51 11365.15777949621\n",
      "0.81 52 11364.18798337069\n",
      "0.81 53 11363.635979870818\n",
      "0.81 54 11363.707978577448\n",
      "0.81 56 11363.627701297686\n",
      "0.81 57 11362.93440137004\n",
      "0.81 59 11362.012567158761\n",
      "0.81 60 11362.545032727297\n",
      "0.81 61 11362.126524648647\n",
      "0.81 63 11361.806204424509\n",
      "0.81 64 11361.749632471565\n",
      "0.81 65 11361.938690242267\n",
      "0.81 66 11362.375037960594\n",
      "0.81 67 11362.597486296721\n",
      "0.81 68 11362.648783110779\n",
      "0.81 71 11362.464250039948\n",
      "0.81 73 11362.94359966536\n",
      "0.81 74 11361.923929814775\n",
      "0.81 75 11362.261186074284\n",
      "0.81 76 11362.085400835944\n",
      "0.81 77 11361.832386016997\n",
      "0.81 78 11361.144890138863\n",
      "0.81 80 11361.343303796362\n",
      "0.81 81 11360.969150736053\n",
      "0.81 82 11360.74433543766\n",
      "0.81 83 11360.637534533815\n",
      "0.81 84 11360.727297575977\n",
      "0.81 85 11360.71524295827\n",
      "0.81 86 11360.818675359134\n",
      "0.81 87 11360.999072312095\n",
      "0.81 89 11360.8466074043\n",
      "0.81 90 11360.834703378607\n",
      "0.81 91 11360.7861807221\n",
      "0.81 93 11361.125718358986\n",
      "0.81 94 11360.787148631554\n",
      "0.81 95 11360.80764405793\n",
      "0.81 97 11361.08569797781\n",
      "0.81 99 11361.075985340032\n",
      "0.7290000000000001 0 11361.257566117094\n",
      "0.7290000000000001 1 11361.172369341368\n",
      "0.7290000000000001 failed 11361.968156077031\n",
      "0.7290000000000001 3 11361.028951981756\n",
      "0.7290000000000001 4 11360.660366026354\n",
      "0.7290000000000001 5 11360.52163386787\n",
      "0.7290000000000001 6 11360.206222261164\n",
      "0.7290000000000001 7 11359.612767917057\n",
      "0.7290000000000001 8 11359.776769783452\n",
      "0.7290000000000001 9 11359.599864035763\n",
      "0.7290000000000001 10 11359.723175644449\n",
      "0.7290000000000001 11 11359.703700049453\n",
      "0.7290000000000001 12 11359.503352878774\n",
      "0.7290000000000001 13 11359.238112038367\n",
      "0.7290000000000001 14 11359.343062809105\n",
      "0.7290000000000001 15 11359.423647813097\n",
      "0.7290000000000001 16 11359.256110466002\n",
      "0.7290000000000001 17 11359.121791560665\n",
      "0.7290000000000001 18 11359.281541855307\n",
      "0.7290000000000001 19 11359.08283888726\n",
      "0.7290000000000001 20 11359.00943196442\n",
      "0.7290000000000001 21 11359.329980930048\n",
      "0.7290000000000001 22 11358.952062724635\n",
      "0.7290000000000001 23 11358.864414845371\n",
      "0.7290000000000001 24 11358.710808047023\n",
      "0.7290000000000001 25 11358.49755804257\n",
      "0.7290000000000001 26 11358.530081322251\n",
      "0.7290000000000001 27 11358.656665978082\n",
      "0.7290000000000001 28 11358.423803169208\n",
      "0.7290000000000001 29 11358.180113014041\n",
      "0.7290000000000001 30 11358.440605961967\n",
      "0.7290000000000001 31 11358.456466247639\n",
      "0.7290000000000001 34 11358.171313261026\n",
      "0.7290000000000001 36 11358.05130661248\n",
      "0.7290000000000001 37 11358.232886793494\n",
      "0.7290000000000001 38 11358.220607016547\n",
      "0.7290000000000001 39 11358.527887555209\n",
      "0.7290000000000001 40 11358.292851068352\n",
      "0.7290000000000001 41 11358.412329567083\n",
      "0.7290000000000001 42 11359.068211445132\n",
      "0.7290000000000001 44 11359.813175413068\n",
      "0.7290000000000001 48 11358.83611402342\n",
      "0.7290000000000001 49 11358.221456106736\n",
      "0.7290000000000001 50 11358.066951191087\n",
      "0.7290000000000001 51 11358.081903615435\n",
      "0.7290000000000001 52 11358.03949420861\n",
      "0.7290000000000001 53 11358.177663155095\n",
      "0.7290000000000001 55 11358.17361585883\n",
      "0.7290000000000001 56 11358.304300083499\n",
      "0.7290000000000001 57 11358.515260113712\n",
      "0.7290000000000001 58 11358.324883382767\n",
      "0.7290000000000001 59 11358.250190595725\n",
      "0.7290000000000001 60 11358.264261758457\n",
      "0.7290000000000001 61 11358.42452097738\n",
      "0.7290000000000001 62 11358.41047867835\n",
      "0.7290000000000001 63 11358.55467175635\n",
      "0.7290000000000001 64 11358.417392848425\n",
      "0.7290000000000001 65 11358.41158456089\n",
      "0.7290000000000001 66 11358.526496998134\n",
      "0.7290000000000001 67 11358.331939865602\n",
      "0.7290000000000001 68 11358.349683663535\n",
      "0.7290000000000001 69 11358.246158997705\n",
      "0.7290000000000001 70 11358.356307064287\n",
      "0.7290000000000001 71 11358.418570384241\n",
      "0.7290000000000001 72 11358.42902784055\n",
      "0.7290000000000001 73 11358.577598110794\n",
      "0.7290000000000001 74 11358.421559229868\n",
      "0.7290000000000001 75 11358.607099587321\n",
      "0.7290000000000001 76 11358.434950063736\n",
      "0.7290000000000001 77 11358.527598644712\n",
      "0.7290000000000001 78 11358.646723020656\n",
      "0.7290000000000001 79 11358.878683094234\n",
      "0.7290000000000001 80 11358.972658450266\n",
      "0.7290000000000001 83 11359.030752062356\n",
      "0.7290000000000001 84 11359.000151989836\n",
      "0.7290000000000001 85 11358.867454674179\n",
      "0.7290000000000001 86 11358.955820014144\n",
      "0.7290000000000001 87 11358.617390522242\n",
      "0.7290000000000001 88 11358.516017156377\n",
      "0.7290000000000001 89 11358.660297884968\n",
      "0.7290000000000001 90 11358.452640284291\n",
      "0.7290000000000001 91 11358.605376909778\n",
      "0.7290000000000001 92 11358.419657921551\n",
      "0.7290000000000001 93 11358.285752521437\n",
      "0.7290000000000001 94 11358.110583752064\n",
      "0.7290000000000001 95 11358.23108974345\n",
      "0.7290000000000001 96 11358.139518227868\n",
      "0.7290000000000001 97 11358.206312233535\n",
      "0.7290000000000001 99 11358.179418942327\n",
      "0.6561000000000001 0 11358.209104214093\n",
      "0.6561000000000001 1 11358.25994387606\n",
      "0.6561000000000001 2 11358.217961643142\n",
      "0.6561000000000001 5 11358.180478651611\n",
      "0.6561000000000001 8 11358.244295509232\n",
      "0.6561000000000001 10 11358.323822970811\n",
      "0.6561000000000001 12 11358.436903694748\n",
      "0.6561000000000001 14 11358.60619451989\n",
      "0.6561000000000001 15 11358.84585047015\n",
      "0.6561000000000001 16 11358.768918504064\n",
      "0.6561000000000001 18 11358.680234939771\n",
      "0.6561000000000001 19 11358.886982374295\n",
      "0.6561000000000001 20 11358.658612567691\n",
      "0.6561000000000001 21 11358.755977035267\n",
      "0.6561000000000001 23 11358.694227117352\n",
      "0.6561000000000001 24 11358.717015261875\n",
      "0.6561000000000001 25 11358.592357300522\n",
      "0.6561000000000001 26 11358.502649410231\n",
      "0.6561000000000001 27 11358.689859560267\n",
      "0.6561000000000001 28 11358.686396134237\n",
      "0.6561000000000001 29 11358.676318299336\n",
      "0.6561000000000001 30 11358.91738857018\n",
      "0.6561000000000001 31 11358.803574655329\n",
      "0.6561000000000001 32 11358.862641982623\n",
      "0.6561000000000001 34 11359.146514360902\n",
      "0.6561000000000001 35 11358.804643782762\n",
      "0.6561000000000001 36 11358.999235344032\n",
      "0.6561000000000001 37 11359.368617944952\n",
      "0.6561000000000001 38 11359.250715205364\n",
      "0.6561000000000001 39 11359.124592658989\n",
      "0.6561000000000001 40 11359.367364384862\n",
      "0.6561000000000001 42 11359.316864183747\n",
      "0.6561000000000001 43 11359.478394419735\n",
      "0.6561000000000001 44 11359.375859853857\n",
      "0.6561000000000001 45 11359.319510601172\n",
      "0.6561000000000001 46 11359.538051123895\n"
     ]
    }
   ],
   "source": [
    "start = timer()\n",
    "# main.run_model()\n",
    "main.calibrate()\n",
    "\n",
    "end = timer()\n",
    "print(f'total time: {timedelta(seconds=end-start)}')"
   ]
  },
  {
   "cell_type": "code",
   "execution_count": 14,
   "id": "4d4315d6-343f-4bf4-9296-e7c3a2df2a77",
   "metadata": {},
   "outputs": [],
   "source": [
    "# see fixed transition prbabilities\n",
    "import pickle\n",
    "with open('new_transition_probs_total_pop100please2.pickle', 'rb') as handle:\n",
    "    p_transition = pickle.load(handle)"
   ]
  },
  {
   "cell_type": "code",
   "execution_count": 15,
   "id": "b0c147c6-c827-41ba-aa98-7a0b40e71764",
   "metadata": {},
   "outputs": [
    {
     "data": {
      "text/html": [
       "<div>\n",
       "<style scoped>\n",
       "    .dataframe tbody tr th:only-of-type {\n",
       "        vertical-align: middle;\n",
       "    }\n",
       "\n",
       "    .dataframe tbody tr th {\n",
       "        vertical-align: top;\n",
       "    }\n",
       "\n",
       "    .dataframe thead th {\n",
       "        text-align: right;\n",
       "    }\n",
       "</style>\n",
       "<table border=\"1\" class=\"dataframe\">\n",
       "  <thead>\n",
       "    <tr style=\"text-align: right;\">\n",
       "      <th></th>\n",
       "      <th>Value</th>\n",
       "      <th>Start</th>\n",
       "      <th>End</th>\n",
       "    </tr>\n",
       "    <tr>\n",
       "      <th>Transition</th>\n",
       "      <th></th>\n",
       "      <th></th>\n",
       "      <th></th>\n",
       "    </tr>\n",
       "  </thead>\n",
       "  <tbody>\n",
       "    <tr>\n",
       "      <th>NORM_ULOC</th>\n",
       "      <td>0.074779</td>\n",
       "      <td>NORM</td>\n",
       "      <td>ULOC</td>\n",
       "    </tr>\n",
       "    <tr>\n",
       "      <th>ULOC_UREG</th>\n",
       "      <td>0.084237</td>\n",
       "      <td>ULOC</td>\n",
       "      <td>UREG</td>\n",
       "    </tr>\n",
       "    <tr>\n",
       "      <th>UREG_UDIST</th>\n",
       "      <td>0.048207</td>\n",
       "      <td>UREG</td>\n",
       "      <td>UDIST</td>\n",
       "    </tr>\n",
       "    <tr>\n",
       "      <th>ULOC_DLOC</th>\n",
       "      <td>0.000099</td>\n",
       "      <td>ULOC</td>\n",
       "      <td>DLOC</td>\n",
       "    </tr>\n",
       "    <tr>\n",
       "      <th>UREG_DREG</th>\n",
       "      <td>0.000212</td>\n",
       "      <td>UREG</td>\n",
       "      <td>DREG</td>\n",
       "    </tr>\n",
       "    <tr>\n",
       "      <th>UDIST_DDIST</th>\n",
       "      <td>0.000315</td>\n",
       "      <td>UDIST</td>\n",
       "      <td>DDIST</td>\n",
       "    </tr>\n",
       "    <tr>\n",
       "      <th>DLOC_PCMORT</th>\n",
       "      <td>0.170000</td>\n",
       "      <td>DLOC</td>\n",
       "      <td>PCMORT</td>\n",
       "    </tr>\n",
       "    <tr>\n",
       "      <th>DREG_PCMORT</th>\n",
       "      <td>0.332000</td>\n",
       "      <td>DREG</td>\n",
       "      <td>PCMORT</td>\n",
       "    </tr>\n",
       "    <tr>\n",
       "      <th>DDIST_PCMORT</th>\n",
       "      <td>0.510000</td>\n",
       "      <td>DDIST</td>\n",
       "      <td>PCMORT</td>\n",
       "    </tr>\n",
       "    <tr>\n",
       "      <th>DLOC_SURG</th>\n",
       "      <td>0.997367</td>\n",
       "      <td>DLOC</td>\n",
       "      <td>SURG</td>\n",
       "    </tr>\n",
       "    <tr>\n",
       "      <th>DREG_SURG</th>\n",
       "      <td>0.000685</td>\n",
       "      <td>DREG</td>\n",
       "      <td>SURG</td>\n",
       "    </tr>\n",
       "    <tr>\n",
       "      <th>SURG_SMORT</th>\n",
       "      <td>0.166000</td>\n",
       "      <td>SURG</td>\n",
       "      <td>SMORT</td>\n",
       "    </tr>\n",
       "    <tr>\n",
       "      <th>SURG_RECUR</th>\n",
       "      <td>0.230367</td>\n",
       "      <td>SURG</td>\n",
       "      <td>RECUR</td>\n",
       "    </tr>\n",
       "    <tr>\n",
       "      <th>DDIST_PALCARE</th>\n",
       "      <td>0.001669</td>\n",
       "      <td>DDIST</td>\n",
       "      <td>PALCARE</td>\n",
       "    </tr>\n",
       "    <tr>\n",
       "      <th>PALCARE_PCMORT</th>\n",
       "      <td>0.195045</td>\n",
       "      <td>PALCARE</td>\n",
       "      <td>PCMORT</td>\n",
       "    </tr>\n",
       "    <tr>\n",
       "      <th>RECUR_PCMORT</th>\n",
       "      <td>0.000045</td>\n",
       "      <td>RECUR</td>\n",
       "      <td>PCMORT</td>\n",
       "    </tr>\n",
       "  </tbody>\n",
       "</table>\n",
       "</div>"
      ],
      "text/plain": [
       "                   Value    Start      End\n",
       "Transition                                \n",
       "NORM_ULOC       0.074779     NORM     ULOC\n",
       "ULOC_UREG       0.084237     ULOC     UREG\n",
       "UREG_UDIST      0.048207     UREG    UDIST\n",
       "ULOC_DLOC       0.000099     ULOC     DLOC\n",
       "UREG_DREG       0.000212     UREG     DREG\n",
       "UDIST_DDIST     0.000315    UDIST    DDIST\n",
       "DLOC_PCMORT     0.170000     DLOC   PCMORT\n",
       "DREG_PCMORT     0.332000     DREG   PCMORT\n",
       "DDIST_PCMORT    0.510000    DDIST   PCMORT\n",
       "DLOC_SURG       0.997367     DLOC     SURG\n",
       "DREG_SURG       0.000685     DREG     SURG\n",
       "SURG_SMORT      0.166000     SURG    SMORT\n",
       "SURG_RECUR      0.230367     SURG    RECUR\n",
       "DDIST_PALCARE   0.001669    DDIST  PALCARE\n",
       "PALCARE_PCMORT  0.195045  PALCARE   PCMORT\n",
       "RECUR_PCMORT    0.000045    RECUR   PCMORT"
      ]
     },
     "execution_count": 15,
     "metadata": {},
     "output_type": "execute_result"
    }
   ],
   "source": [
    "p_transition[0] # age 18"
   ]
  },
  {
   "cell_type": "code",
   "execution_count": 16,
   "id": "6c47456a-05d5-45ea-8e86-d6ad4eb08fc1",
   "metadata": {},
   "outputs": [
    {
     "data": {
      "text/html": [
       "<div>\n",
       "<style scoped>\n",
       "    .dataframe tbody tr th:only-of-type {\n",
       "        vertical-align: middle;\n",
       "    }\n",
       "\n",
       "    .dataframe tbody tr th {\n",
       "        vertical-align: top;\n",
       "    }\n",
       "\n",
       "    .dataframe thead th {\n",
       "        text-align: right;\n",
       "    }\n",
       "</style>\n",
       "<table border=\"1\" class=\"dataframe\">\n",
       "  <thead>\n",
       "    <tr style=\"text-align: right;\">\n",
       "      <th></th>\n",
       "      <th>Value</th>\n",
       "      <th>Start</th>\n",
       "      <th>End</th>\n",
       "    </tr>\n",
       "    <tr>\n",
       "      <th>Transition</th>\n",
       "      <th></th>\n",
       "      <th></th>\n",
       "      <th></th>\n",
       "    </tr>\n",
       "  </thead>\n",
       "  <tbody>\n",
       "    <tr>\n",
       "      <th>NORM_ULOC</th>\n",
       "      <td>0.074779</td>\n",
       "      <td>NORM</td>\n",
       "      <td>ULOC</td>\n",
       "    </tr>\n",
       "    <tr>\n",
       "      <th>ULOC_UREG</th>\n",
       "      <td>0.084237</td>\n",
       "      <td>ULOC</td>\n",
       "      <td>UREG</td>\n",
       "    </tr>\n",
       "    <tr>\n",
       "      <th>UREG_UDIST</th>\n",
       "      <td>0.048207</td>\n",
       "      <td>UREG</td>\n",
       "      <td>UDIST</td>\n",
       "    </tr>\n",
       "    <tr>\n",
       "      <th>ULOC_DLOC</th>\n",
       "      <td>0.000099</td>\n",
       "      <td>ULOC</td>\n",
       "      <td>DLOC</td>\n",
       "    </tr>\n",
       "    <tr>\n",
       "      <th>UREG_DREG</th>\n",
       "      <td>0.000212</td>\n",
       "      <td>UREG</td>\n",
       "      <td>DREG</td>\n",
       "    </tr>\n",
       "    <tr>\n",
       "      <th>UDIST_DDIST</th>\n",
       "      <td>0.000315</td>\n",
       "      <td>UDIST</td>\n",
       "      <td>DDIST</td>\n",
       "    </tr>\n",
       "    <tr>\n",
       "      <th>DLOC_PCMORT</th>\n",
       "      <td>0.170000</td>\n",
       "      <td>DLOC</td>\n",
       "      <td>PCMORT</td>\n",
       "    </tr>\n",
       "    <tr>\n",
       "      <th>DREG_PCMORT</th>\n",
       "      <td>0.332000</td>\n",
       "      <td>DREG</td>\n",
       "      <td>PCMORT</td>\n",
       "    </tr>\n",
       "    <tr>\n",
       "      <th>DDIST_PCMORT</th>\n",
       "      <td>0.510000</td>\n",
       "      <td>DDIST</td>\n",
       "      <td>PCMORT</td>\n",
       "    </tr>\n",
       "    <tr>\n",
       "      <th>DLOC_SURG</th>\n",
       "      <td>0.997367</td>\n",
       "      <td>DLOC</td>\n",
       "      <td>SURG</td>\n",
       "    </tr>\n",
       "    <tr>\n",
       "      <th>DREG_SURG</th>\n",
       "      <td>0.000685</td>\n",
       "      <td>DREG</td>\n",
       "      <td>SURG</td>\n",
       "    </tr>\n",
       "    <tr>\n",
       "      <th>SURG_SMORT</th>\n",
       "      <td>0.166000</td>\n",
       "      <td>SURG</td>\n",
       "      <td>SMORT</td>\n",
       "    </tr>\n",
       "    <tr>\n",
       "      <th>SURG_RECUR</th>\n",
       "      <td>0.230367</td>\n",
       "      <td>SURG</td>\n",
       "      <td>RECUR</td>\n",
       "    </tr>\n",
       "    <tr>\n",
       "      <th>DDIST_PALCARE</th>\n",
       "      <td>0.001669</td>\n",
       "      <td>DDIST</td>\n",
       "      <td>PALCARE</td>\n",
       "    </tr>\n",
       "    <tr>\n",
       "      <th>PALCARE_PCMORT</th>\n",
       "      <td>0.195045</td>\n",
       "      <td>PALCARE</td>\n",
       "      <td>PCMORT</td>\n",
       "    </tr>\n",
       "    <tr>\n",
       "      <th>RECUR_PCMORT</th>\n",
       "      <td>0.000045</td>\n",
       "      <td>RECUR</td>\n",
       "      <td>PCMORT</td>\n",
       "    </tr>\n",
       "  </tbody>\n",
       "</table>\n",
       "</div>"
      ],
      "text/plain": [
       "                   Value    Start      End\n",
       "Transition                                \n",
       "NORM_ULOC       0.074779     NORM     ULOC\n",
       "ULOC_UREG       0.084237     ULOC     UREG\n",
       "UREG_UDIST      0.048207     UREG    UDIST\n",
       "ULOC_DLOC       0.000099     ULOC     DLOC\n",
       "UREG_DREG       0.000212     UREG     DREG\n",
       "UDIST_DDIST     0.000315    UDIST    DDIST\n",
       "DLOC_PCMORT     0.170000     DLOC   PCMORT\n",
       "DREG_PCMORT     0.332000     DREG   PCMORT\n",
       "DDIST_PCMORT    0.510000    DDIST   PCMORT\n",
       "DLOC_SURG       0.997367     DLOC     SURG\n",
       "DREG_SURG       0.000685     DREG     SURG\n",
       "SURG_SMORT      0.166000     SURG    SMORT\n",
       "SURG_RECUR      0.230367     SURG    RECUR\n",
       "DDIST_PALCARE   0.001669    DDIST  PALCARE\n",
       "PALCARE_PCMORT  0.195045  PALCARE   PCMORT\n",
       "RECUR_PCMORT    0.000045    RECUR   PCMORT"
      ]
     },
     "execution_count": 16,
     "metadata": {},
     "output_type": "execute_result"
    }
   ],
   "source": [
    "p_transition[22] #age 40"
   ]
  },
  {
   "cell_type": "code",
   "execution_count": 17,
   "id": "ecc4e8f7-6e54-4caf-8a37-35a43c8bd404",
   "metadata": {},
   "outputs": [
    {
     "data": {
      "text/html": [
       "<div>\n",
       "<style scoped>\n",
       "    .dataframe tbody tr th:only-of-type {\n",
       "        vertical-align: middle;\n",
       "    }\n",
       "\n",
       "    .dataframe tbody tr th {\n",
       "        vertical-align: top;\n",
       "    }\n",
       "\n",
       "    .dataframe thead th {\n",
       "        text-align: right;\n",
       "    }\n",
       "</style>\n",
       "<table border=\"1\" class=\"dataframe\">\n",
       "  <thead>\n",
       "    <tr style=\"text-align: right;\">\n",
       "      <th></th>\n",
       "      <th>Value</th>\n",
       "      <th>Start</th>\n",
       "      <th>End</th>\n",
       "    </tr>\n",
       "    <tr>\n",
       "      <th>Transition</th>\n",
       "      <th></th>\n",
       "      <th></th>\n",
       "      <th></th>\n",
       "    </tr>\n",
       "  </thead>\n",
       "  <tbody>\n",
       "    <tr>\n",
       "      <th>NORM_ULOC</th>\n",
       "      <td>0.074779</td>\n",
       "      <td>NORM</td>\n",
       "      <td>ULOC</td>\n",
       "    </tr>\n",
       "    <tr>\n",
       "      <th>ULOC_UREG</th>\n",
       "      <td>0.084237</td>\n",
       "      <td>ULOC</td>\n",
       "      <td>UREG</td>\n",
       "    </tr>\n",
       "    <tr>\n",
       "      <th>UREG_UDIST</th>\n",
       "      <td>0.048207</td>\n",
       "      <td>UREG</td>\n",
       "      <td>UDIST</td>\n",
       "    </tr>\n",
       "    <tr>\n",
       "      <th>ULOC_DLOC</th>\n",
       "      <td>0.000099</td>\n",
       "      <td>ULOC</td>\n",
       "      <td>DLOC</td>\n",
       "    </tr>\n",
       "    <tr>\n",
       "      <th>UREG_DREG</th>\n",
       "      <td>0.000212</td>\n",
       "      <td>UREG</td>\n",
       "      <td>DREG</td>\n",
       "    </tr>\n",
       "    <tr>\n",
       "      <th>UDIST_DDIST</th>\n",
       "      <td>0.000315</td>\n",
       "      <td>UDIST</td>\n",
       "      <td>DDIST</td>\n",
       "    </tr>\n",
       "    <tr>\n",
       "      <th>DLOC_PCMORT</th>\n",
       "      <td>0.170000</td>\n",
       "      <td>DLOC</td>\n",
       "      <td>PCMORT</td>\n",
       "    </tr>\n",
       "    <tr>\n",
       "      <th>DREG_PCMORT</th>\n",
       "      <td>0.332000</td>\n",
       "      <td>DREG</td>\n",
       "      <td>PCMORT</td>\n",
       "    </tr>\n",
       "    <tr>\n",
       "      <th>DDIST_PCMORT</th>\n",
       "      <td>0.510000</td>\n",
       "      <td>DDIST</td>\n",
       "      <td>PCMORT</td>\n",
       "    </tr>\n",
       "    <tr>\n",
       "      <th>DLOC_SURG</th>\n",
       "      <td>0.997367</td>\n",
       "      <td>DLOC</td>\n",
       "      <td>SURG</td>\n",
       "    </tr>\n",
       "    <tr>\n",
       "      <th>DREG_SURG</th>\n",
       "      <td>0.000685</td>\n",
       "      <td>DREG</td>\n",
       "      <td>SURG</td>\n",
       "    </tr>\n",
       "    <tr>\n",
       "      <th>SURG_SMORT</th>\n",
       "      <td>0.166000</td>\n",
       "      <td>SURG</td>\n",
       "      <td>SMORT</td>\n",
       "    </tr>\n",
       "    <tr>\n",
       "      <th>SURG_RECUR</th>\n",
       "      <td>0.230367</td>\n",
       "      <td>SURG</td>\n",
       "      <td>RECUR</td>\n",
       "    </tr>\n",
       "    <tr>\n",
       "      <th>DDIST_PALCARE</th>\n",
       "      <td>0.001669</td>\n",
       "      <td>DDIST</td>\n",
       "      <td>PALCARE</td>\n",
       "    </tr>\n",
       "    <tr>\n",
       "      <th>PALCARE_PCMORT</th>\n",
       "      <td>0.195045</td>\n",
       "      <td>PALCARE</td>\n",
       "      <td>PCMORT</td>\n",
       "    </tr>\n",
       "    <tr>\n",
       "      <th>RECUR_PCMORT</th>\n",
       "      <td>0.000045</td>\n",
       "      <td>RECUR</td>\n",
       "      <td>PCMORT</td>\n",
       "    </tr>\n",
       "  </tbody>\n",
       "</table>\n",
       "</div>"
      ],
      "text/plain": [
       "                   Value    Start      End\n",
       "Transition                                \n",
       "NORM_ULOC       0.074779     NORM     ULOC\n",
       "ULOC_UREG       0.084237     ULOC     UREG\n",
       "UREG_UDIST      0.048207     UREG    UDIST\n",
       "ULOC_DLOC       0.000099     ULOC     DLOC\n",
       "UREG_DREG       0.000212     UREG     DREG\n",
       "UDIST_DDIST     0.000315    UDIST    DDIST\n",
       "DLOC_PCMORT     0.170000     DLOC   PCMORT\n",
       "DREG_PCMORT     0.332000     DREG   PCMORT\n",
       "DDIST_PCMORT    0.510000    DDIST   PCMORT\n",
       "DLOC_SURG       0.997367     DLOC     SURG\n",
       "DREG_SURG       0.000685     DREG     SURG\n",
       "SURG_SMORT      0.166000     SURG    SMORT\n",
       "SURG_RECUR      0.230367     SURG    RECUR\n",
       "DDIST_PALCARE   0.001669    DDIST  PALCARE\n",
       "PALCARE_PCMORT  0.195045  PALCARE   PCMORT\n",
       "RECUR_PCMORT    0.000045    RECUR   PCMORT"
      ]
     },
     "execution_count": 17,
     "metadata": {},
     "output_type": "execute_result"
    }
   ],
   "source": [
    "p_transition[52] # age 70 "
   ]
  },
  {
   "cell_type": "code",
   "execution_count": 9,
   "id": "8af2096e-9a54-4f52-a042-52d63d5f885b",
   "metadata": {},
   "outputs": [
    {
     "data": {
      "image/png": "[encoded data removed]",
      "text/plain": [
       "<Figure size 432x288 with 1 Axes>"
      ]
     },
     "metadata": {
      "needs_background": "light"
     },
     "output_type": "display_data"
    }
   ],
   "source": [
    "import pandas as pd\n",
    "import matplotlib.pyplot as plt\n",
    "import numpy as np\n",
    "\n",
    "INC_TARGET_PATH = '../data/targets/PC/overall_cancer_incidence.xlsx'\n",
    "target_incid=pd.read_excel(INC_TARGET_PATH)\n",
    "target_incid.columns=['age','overall_incid']\n",
    "plt.plot(target_incid['age'].tolist()[:-1], target_incid['overall_incid'][:-1])\n",
    "plt.xticks(rotation='60')\n",
    "plt.show()"
   ]
  },
  {
   "cell_type": "code",
   "execution_count": 10,
   "id": "716bf5f3-e056-4804-9bb3-ab0f25dba1f8",
   "metadata": {},
   "outputs": [
    {
     "data": {
      "image/png": "[encoded data removed]",
      "text/plain": [
       "<Figure size 432x288 with 1 Axes>"
      ]
     },
     "metadata": {
      "needs_background": "light"
     },
     "output_type": "display_data"
    }
   ],
   "source": [
    "INC_TARGET_PATH = '../data/targets/PC/Pancreatic Cancer SEER Rates.xlsx'\n",
    "target_incid_by_stages=pd.read_excel(INC_TARGET_PATH, sheet_name='Incidence by stage')\n",
    "loc = target_incid_by_stages.iloc[7:-4,0:2]\n",
    "loc.columns=['age','loc']\n",
    "reg = target_incid_by_stages.iloc[7:-4, 4:5]\n",
    "reg.columns=['reg']\n",
    "dist = target_incid_by_stages.iloc[7:-4, 7:8]\n",
    "dist.columns = ['dist']\n",
    "\n",
    "by_stages=pd.DataFrame()\n",
    "by_stages = loc.copy(deep=True)\n",
    "by_stages=by_stages.assign(reg=reg['reg'].tolist())\n",
    "by_stages=by_stages.assign(dist=dist['dist'].tolist())\n",
    "by_stages\n",
    "\n",
    "plt.plot(by_stages['age'].tolist(), by_stages['loc'])\n",
    "plt.plot(by_stages['age'].tolist(), by_stages['reg'])\n",
    "plt.plot(by_stages['age'].tolist(), by_stages['dist'])\n",
    "plt.plot(by_stages['age'].tolist(), cal.grouping(target_incid['overall_incid'][:-1]), 'k')\n",
    "\n",
    "plt.legend(['loc','reg','dist','overall'])\n",
    "plt.xticks(rotation='60')\n",
    "plt.show()"
   ]
  },
  {
   "cell_type": "code",
   "execution_count": 11,
   "id": "9dc3b7e1-14b9-4669-9081-a94219814d25",
   "metadata": {},
   "outputs": [
    {
     "data": {
      "image/png": "[encoded data removed]",
      "text/plain": [
       "<Figure size 432x288 with 1 Axes>"
      ]
     },
     "metadata": {
      "needs_background": "light"
     },
     "output_type": "display_data"
    }
   ],
   "source": [
    "INC_TARGET_PATH = '../data/targets/PC/SEER_mortality.xlsx'\n",
    "target_mort=pd.read_excel(INC_TARGET_PATH)\n",
    "target_mort=target_mort.iloc[:,1:]\n",
    "target_mort.columns=['age','overall_mort']\n",
    "plt.plot(target_mort['age'].tolist()[4:-1],target_mort['overall_mort'][4:-1], 'k')\n",
    "plt.legend(['mort'])\n",
    "plt.xticks(rotation='60')\n",
    "plt.show()"
   ]
  },
  {
   "cell_type": "code",
   "execution_count": 12,
   "id": "5d63ff65-dd25-44fa-9f1c-690151f08aac",
   "metadata": {},
   "outputs": [
    {
     "data": {
      "image/png": "[encoded data removed]",
      "text/plain": [
       "<Figure size 432x288 with 1 Axes>"
      ]
     },
     "metadata": {
      "needs_background": "light"
     },
     "output_type": "display_data"
    }
   ],
   "source": [
    "init_incid=pd.read_excel('cancer_incidence_total_pop.xlsx')\n",
    "plt.plot(target_mort['age'].tolist()[4:-1], cal.grouping(init_incid['loc'][0:67]), 'g--')\n",
    "plt.plot(target_mort['age'].tolist()[4:-1], cal.grouping(init_incid['reg'][0:67]), 'r--')\n",
    "plt.plot(target_mort['age'].tolist()[4:-1], cal.grouping(init_incid['dist'][0:67]), 'b--')\n",
    "plt.plot(target_mort['age'].tolist()[4:-1], cal.grouping(init_incid['overall'][0:67]), 'k--')\n",
    "\n",
    "plt.legend(['loc','reg','dist','overall'])\n",
    "plt.title('with initial transition probabilities')\n",
    "plt.xticks(rotation='60')\n",
    "plt.show()"
   ]
  },
  {
   "cell_type": "code",
   "execution_count": 13,
   "id": "3b4cc92c-a649-4d25-b933-d81588bf04d5",
   "metadata": {},
   "outputs": [],
   "source": [
    "# init_mort=pd.read_excel('cancer_mortality_total_pop_init.xlsx')\n",
    "# init_mort.columns=['age','overall_mort']\n",
    "# init_mort['age']=init_mort['age']+18\n",
    "# plt.plot(target_mort['age'][4:-1], c.grouping(init_mort['overall_mort'][0:67]), color='green', linestyle='--')\n",
    "# plt.xticks(rotation=60)\n",
    "# # plt.legend(['sim','target'])\n",
    "# plt.title('Mortality with initial probability transition')\n",
    "# plt.show()"
   ]
  },
  {
   "cell_type": "code",
   "execution_count": 13,
   "id": "000c8b3e-8b72-4431-b252-ea0294989ce0",
   "metadata": {},
   "outputs": [
    {
     "data": {
      "image/png": "[encoded data removed]",
      "text/plain": [
       "<Figure size 432x288 with 1 Axes>"
      ]
     },
     "metadata": {
      "needs_background": "light"
     },
     "output_type": "display_data"
    }
   ],
   "source": [
    "beingsaved = plt.figure()\n",
    "\n",
    "INC_TARGET_PATH = '../data/targets/PC/Pancreatic Cancer SEER Rates.xlsx'\n",
    "target_incid_by_stages=pd.read_excel(INC_TARGET_PATH, sheet_name='Incidence by stage')\n",
    "loc = target_incid_by_stages.iloc[7:-4,0:2]\n",
    "loc.columns=['age','loc']\n",
    "reg = target_incid_by_stages.iloc[7:-4, 4:5]\n",
    "reg.columns=['reg']\n",
    "dist = target_incid_by_stages.iloc[7:-4, 7:8]\n",
    "dist.columns = ['dist']\n",
    "\n",
    "by_stages=pd.DataFrame()\n",
    "by_stages = loc.copy(deep=True)\n",
    "by_stages=by_stages.assign(reg=reg['reg'].tolist())\n",
    "by_stages=by_stages.assign(dist=dist['dist'].tolist())\n",
    "by_stages\n",
    "\n",
    "plt.plot(by_stages['age'].tolist(), by_stages['loc'], 'g-')\n",
    "plt.plot(by_stages['age'].tolist(), by_stages['reg'], 'r-')\n",
    "plt.plot(by_stages['age'].tolist(), by_stages['dist'], 'b-')\n",
    "\n",
    "\n",
    "sim_incid=pd.read_excel('cancer_incidence_total_pop.xlsx')\n",
    "plt.plot(by_stages['age'].tolist(), cal.grouping(sim_incid['loc'][0:67]), 'g--')\n",
    "plt.plot(by_stages['age'].tolist(), cal.grouping(sim_incid['reg'][0:67]), 'r--')\n",
    "plt.plot(by_stages['age'].tolist(), cal.grouping(sim_incid['dist'][0:67]), 'b--')\n",
    "plt.legend(['loc','reg','dist','sim_loc','sim_reg','sim_dist'])\n",
    "\n",
    "# plt.legend(['loc','reg','dist'])\n",
    "plt.xticks(rotation='60')\n",
    "plt.show()"
   ]
  },
  {
   "cell_type": "code",
   "execution_count": 15,
   "id": "0fa9cd4b-e1d4-4614-bee5-5fecbd243e20",
   "metadata": {},
   "outputs": [],
   "source": [
    "# beingsaved.savefig('incid_stage.jpg', format='jpg', dpi=300)"
   ]
  },
  {
   "cell_type": "code",
   "execution_count": 16,
   "id": "64bb1dab-1fe3-4069-a388-cdf5aff5d6e1",
   "metadata": {
    "tags": []
   },
   "outputs": [
    {
     "data": {
      "image/png": "[encoded data removed]",
      "text/plain": [
       "<Figure size 432x288 with 1 Axes>"
      ]
     },
     "metadata": {
      "needs_background": "light"
     },
     "output_type": "display_data"
    }
   ],
   "source": [
    "sim_incid=pd.read_excel('cancer_incidence_total_pop.xlsx')\n",
    "# sim_incid.columns=['age','overall_incid']\n",
    "# sim_incid['age']=sim_incid['age']+18\n",
    "plt.plot(by_stages['age'].tolist(), cal.grouping(sim_incid['overall'][0:67]), 'k--')\n",
    "plt.plot(by_stages['age'].tolist(), cal.grouping(target_incid['overall_incid'][:-1]), 'k')\n",
    "\n",
    "plt.xticks(rotation=60)\n",
    "plt.legend(['sim','target'])\n",
    "plt.title('Calibrated Incidence')\n",
    "plt.show()"
   ]
  },
  {
   "cell_type": "code",
   "execution_count": 17,
   "id": "6840a457-fdcf-40f4-a6c7-b58d649379f6",
   "metadata": {},
   "outputs": [
    {
     "data": {
      "image/png": "[encoded data removed]",
      "text/plain": [
       "<Figure size 432x288 with 1 Axes>"
      ]
     },
     "metadata": {
      "needs_background": "light"
     },
     "output_type": "display_data"
    }
   ],
   "source": [
    "sim_mort=pd.read_excel('cancer_mortality_total_pop.xlsx')\n",
    "plt.plot(target_mort['age'][4:-1], cal.grouping(sim_mort['mort'][0:67]), 'k--')\n",
    "plt.plot(target_mort['age'][4:-1], target_mort['overall_mort'][4:-1], 'k')\n",
    "plt.xticks(rotation=60)\n",
    "plt.legend(['sim','target'])\n",
    "plt.title('Calibrated Mortality')\n",
    "plt.show()"
   ]
  },
  {
   "cell_type": "markdown",
   "id": "0648b408-006b-4bed-8a54-ee792c718234",
   "metadata": {},
   "source": [
    "# Look into state summary"
   ]
  },
  {
   "cell_type": "code",
   "execution_count": 18,
   "id": "4eab7f06-d18f-4ca7-b582-ee0b5594ff89",
   "metadata": {},
   "outputs": [
    {
     "ename": "FileNotFoundError",
     "evalue": "[Errno 2] No such file or directory: 'state_summ_total_pop_ED.xlsx'",
     "output_type": "error",
     "traceback": [
      "\u001b[1;31m---------------------------------------------------------------------------\u001b[0m",
      "\u001b[1;31mFileNotFoundError\u001b[0m                         Traceback (most recent call last)",
      "\u001b[1;32m~\\AppData\\Local\\Temp/ipykernel_29144/1314625271.py\u001b[0m in \u001b[0;36m<module>\u001b[1;34m\u001b[0m\n\u001b[1;32m----> 1\u001b[1;33m \u001b[0mstate_info_ed\u001b[0m \u001b[1;33m=\u001b[0m \u001b[0mpd\u001b[0m\u001b[1;33m.\u001b[0m\u001b[0mread_excel\u001b[0m\u001b[1;33m(\u001b[0m\u001b[1;34m'state_summ_total_pop_ED.xlsx'\u001b[0m\u001b[1;33m)\u001b[0m\u001b[1;33m.\u001b[0m\u001b[0miloc\u001b[0m\u001b[1;33m[\u001b[0m\u001b[1;36m1\u001b[0m\u001b[1;33m:\u001b[0m\u001b[1;33m,\u001b[0m \u001b[1;36m1\u001b[0m\u001b[1;33m:\u001b[0m\u001b[1;33m]\u001b[0m\u001b[1;33m\u001b[0m\u001b[1;33m\u001b[0m\u001b[0m\n\u001b[0m\u001b[0;32m      2\u001b[0m \u001b[0mstate_info_noed\u001b[0m \u001b[1;33m=\u001b[0m \u001b[0mpd\u001b[0m\u001b[1;33m.\u001b[0m\u001b[0mread_excel\u001b[0m\u001b[1;33m(\u001b[0m\u001b[1;34m'state_summ_total_pop_noED.xlsx'\u001b[0m\u001b[1;33m)\u001b[0m\u001b[1;33m.\u001b[0m\u001b[0miloc\u001b[0m\u001b[1;33m[\u001b[0m\u001b[1;36m1\u001b[0m\u001b[1;33m:\u001b[0m\u001b[1;33m,\u001b[0m \u001b[1;36m1\u001b[0m\u001b[1;33m:\u001b[0m\u001b[1;33m]\u001b[0m\u001b[1;33m\u001b[0m\u001b[1;33m\u001b[0m\u001b[0m\n",
      "\u001b[1;32m~\\Anaconda3\\envs\\py39\\lib\\site-packages\\pandas\\util\\_decorators.py\u001b[0m in \u001b[0;36mwrapper\u001b[1;34m(*args, **kwargs)\u001b[0m\n\u001b[0;32m    309\u001b[0m                     \u001b[0mstacklevel\u001b[0m\u001b[1;33m=\u001b[0m\u001b[0mstacklevel\u001b[0m\u001b[1;33m,\u001b[0m\u001b[1;33m\u001b[0m\u001b[1;33m\u001b[0m\u001b[0m\n\u001b[0;32m    310\u001b[0m                 )\n\u001b[1;32m--> 311\u001b[1;33m             \u001b[1;32mreturn\u001b[0m \u001b[0mfunc\u001b[0m\u001b[1;33m(\u001b[0m\u001b[1;33m*\u001b[0m\u001b[0margs\u001b[0m\u001b[1;33m,\u001b[0m \u001b[1;33m**\u001b[0m\u001b[0mkwargs\u001b[0m\u001b[1;33m)\u001b[0m\u001b[1;33m\u001b[0m\u001b[1;33m\u001b[0m\u001b[0m\n\u001b[0m\u001b[0;32m    312\u001b[0m \u001b[1;33m\u001b[0m\u001b[0m\n\u001b[0;32m    313\u001b[0m         \u001b[1;32mreturn\u001b[0m \u001b[0mwrapper\u001b[0m\u001b[1;33m\u001b[0m\u001b[1;33m\u001b[0m\u001b[0m\n",
      "\u001b[1;32m~\\Anaconda3\\envs\\py39\\lib\\site-packages\\pandas\\io\\excel\\_base.py\u001b[0m in \u001b[0;36mread_excel\u001b[1;34m(io, sheet_name, header, names, index_col, usecols, squeeze, dtype, engine, converters, true_values, false_values, skiprows, nrows, na_values, keep_default_na, na_filter, verbose, parse_dates, date_parser, thousands, comment, skipfooter, convert_float, mangle_dupe_cols, storage_options)\u001b[0m\n\u001b[0;32m    362\u001b[0m     \u001b[1;32mif\u001b[0m \u001b[1;32mnot\u001b[0m \u001b[0misinstance\u001b[0m\u001b[1;33m(\u001b[0m\u001b[0mio\u001b[0m\u001b[1;33m,\u001b[0m \u001b[0mExcelFile\u001b[0m\u001b[1;33m)\u001b[0m\u001b[1;33m:\u001b[0m\u001b[1;33m\u001b[0m\u001b[1;33m\u001b[0m\u001b[0m\n\u001b[0;32m    363\u001b[0m         \u001b[0mshould_close\u001b[0m \u001b[1;33m=\u001b[0m \u001b[1;32mTrue\u001b[0m\u001b[1;33m\u001b[0m\u001b[1;33m\u001b[0m\u001b[0m\n\u001b[1;32m--> 364\u001b[1;33m         \u001b[0mio\u001b[0m \u001b[1;33m=\u001b[0m \u001b[0mExcelFile\u001b[0m\u001b[1;33m(\u001b[0m\u001b[0mio\u001b[0m\u001b[1;33m,\u001b[0m \u001b[0mstorage_options\u001b[0m\u001b[1;33m=\u001b[0m\u001b[0mstorage_options\u001b[0m\u001b[1;33m,\u001b[0m \u001b[0mengine\u001b[0m\u001b[1;33m=\u001b[0m\u001b[0mengine\u001b[0m\u001b[1;33m)\u001b[0m\u001b[1;33m\u001b[0m\u001b[1;33m\u001b[0m\u001b[0m\n\u001b[0m\u001b[0;32m    365\u001b[0m     \u001b[1;32melif\u001b[0m \u001b[0mengine\u001b[0m \u001b[1;32mand\u001b[0m \u001b[0mengine\u001b[0m \u001b[1;33m!=\u001b[0m \u001b[0mio\u001b[0m\u001b[1;33m.\u001b[0m\u001b[0mengine\u001b[0m\u001b[1;33m:\u001b[0m\u001b[1;33m\u001b[0m\u001b[1;33m\u001b[0m\u001b[0m\n\u001b[0;32m    366\u001b[0m         raise ValueError(\n",
      "\u001b[1;32m~\\Anaconda3\\envs\\py39\\lib\\site-packages\\pandas\\io\\excel\\_base.py\u001b[0m in \u001b[0;36m__init__\u001b[1;34m(self, path_or_buffer, engine, storage_options)\u001b[0m\n\u001b[0;32m   1189\u001b[0m                 \u001b[0mext\u001b[0m \u001b[1;33m=\u001b[0m \u001b[1;34m\"xls\"\u001b[0m\u001b[1;33m\u001b[0m\u001b[1;33m\u001b[0m\u001b[0m\n\u001b[0;32m   1190\u001b[0m             \u001b[1;32melse\u001b[0m\u001b[1;33m:\u001b[0m\u001b[1;33m\u001b[0m\u001b[1;33m\u001b[0m\u001b[0m\n\u001b[1;32m-> 1191\u001b[1;33m                 ext = inspect_excel_format(\n\u001b[0m\u001b[0;32m   1192\u001b[0m                     \u001b[0mcontent_or_path\u001b[0m\u001b[1;33m=\u001b[0m\u001b[0mpath_or_buffer\u001b[0m\u001b[1;33m,\u001b[0m \u001b[0mstorage_options\u001b[0m\u001b[1;33m=\u001b[0m\u001b[0mstorage_options\u001b[0m\u001b[1;33m\u001b[0m\u001b[1;33m\u001b[0m\u001b[0m\n\u001b[0;32m   1193\u001b[0m                 )\n",
      "\u001b[1;32m~\\Anaconda3\\envs\\py39\\lib\\site-packages\\pandas\\io\\excel\\_base.py\u001b[0m in \u001b[0;36minspect_excel_format\u001b[1;34m(content_or_path, storage_options)\u001b[0m\n\u001b[0;32m   1068\u001b[0m         \u001b[0mcontent_or_path\u001b[0m \u001b[1;33m=\u001b[0m \u001b[0mBytesIO\u001b[0m\u001b[1;33m(\u001b[0m\u001b[0mcontent_or_path\u001b[0m\u001b[1;33m)\u001b[0m\u001b[1;33m\u001b[0m\u001b[1;33m\u001b[0m\u001b[0m\n\u001b[0;32m   1069\u001b[0m \u001b[1;33m\u001b[0m\u001b[0m\n\u001b[1;32m-> 1070\u001b[1;33m     with get_handle(\n\u001b[0m\u001b[0;32m   1071\u001b[0m         \u001b[0mcontent_or_path\u001b[0m\u001b[1;33m,\u001b[0m \u001b[1;34m\"rb\"\u001b[0m\u001b[1;33m,\u001b[0m \u001b[0mstorage_options\u001b[0m\u001b[1;33m=\u001b[0m\u001b[0mstorage_options\u001b[0m\u001b[1;33m,\u001b[0m \u001b[0mis_text\u001b[0m\u001b[1;33m=\u001b[0m\u001b[1;32mFalse\u001b[0m\u001b[1;33m\u001b[0m\u001b[1;33m\u001b[0m\u001b[0m\n\u001b[0;32m   1072\u001b[0m     ) as handle:\n",
      "\u001b[1;32m~\\Anaconda3\\envs\\py39\\lib\\site-packages\\pandas\\io\\common.py\u001b[0m in \u001b[0;36mget_handle\u001b[1;34m(path_or_buf, mode, encoding, compression, memory_map, is_text, errors, storage_options)\u001b[0m\n\u001b[0;32m    709\u001b[0m         \u001b[1;32melse\u001b[0m\u001b[1;33m:\u001b[0m\u001b[1;33m\u001b[0m\u001b[1;33m\u001b[0m\u001b[0m\n\u001b[0;32m    710\u001b[0m             \u001b[1;31m# Binary mode\u001b[0m\u001b[1;33m\u001b[0m\u001b[1;33m\u001b[0m\u001b[1;33m\u001b[0m\u001b[0m\n\u001b[1;32m--> 711\u001b[1;33m             \u001b[0mhandle\u001b[0m \u001b[1;33m=\u001b[0m \u001b[0mopen\u001b[0m\u001b[1;33m(\u001b[0m\u001b[0mhandle\u001b[0m\u001b[1;33m,\u001b[0m \u001b[0mioargs\u001b[0m\u001b[1;33m.\u001b[0m\u001b[0mmode\u001b[0m\u001b[1;33m)\u001b[0m\u001b[1;33m\u001b[0m\u001b[1;33m\u001b[0m\u001b[0m\n\u001b[0m\u001b[0;32m    712\u001b[0m         \u001b[0mhandles\u001b[0m\u001b[1;33m.\u001b[0m\u001b[0mappend\u001b[0m\u001b[1;33m(\u001b[0m\u001b[0mhandle\u001b[0m\u001b[1;33m)\u001b[0m\u001b[1;33m\u001b[0m\u001b[1;33m\u001b[0m\u001b[0m\n\u001b[0;32m    713\u001b[0m \u001b[1;33m\u001b[0m\u001b[0m\n",
      "\u001b[1;31mFileNotFoundError\u001b[0m: [Errno 2] No such file or directory: 'state_summ_total_pop_ED.xlsx'"
     ]
    }
   ],
   "source": [
    "state_info_ed = pd.read_excel('state_summ_total_pop_ED.xlsx').iloc[1:, 1:]\n",
    "state_info_noed = pd.read_excel('state_summ_total_pop_noED.xlsx').iloc[1:, 1:]"
   ]
  },
  {
   "cell_type": "code",
   "execution_count": null,
   "id": "250fd7cd-19a1-4295-beeb-6858fd6413ae",
   "metadata": {},
   "outputs": [],
   "source": [
    "x=list(range(18, 100))"
   ]
  },
  {
   "cell_type": "code",
   "execution_count": 19,
   "id": "3d1353be-83a2-44f3-a700-829dd76812c1",
   "metadata": {},
   "outputs": [
    {
     "ename": "NameError",
     "evalue": "name 'state_info_ed' is not defined",
     "output_type": "error",
     "traceback": [
      "\u001b[1;31m---------------------------------------------------------------------------\u001b[0m",
      "\u001b[1;31mNameError\u001b[0m                                 Traceback (most recent call last)",
      "\u001b[1;32m~\\AppData\\Local\\Temp/ipykernel_29144/438305977.py\u001b[0m in \u001b[0;36m<module>\u001b[1;34m\u001b[0m\n\u001b[0;32m      2\u001b[0m \u001b[0mstate\u001b[0m\u001b[1;33m=\u001b[0m\u001b[1;34m'SURG'\u001b[0m\u001b[1;33m\u001b[0m\u001b[1;33m\u001b[0m\u001b[0m\n\u001b[0;32m      3\u001b[0m \u001b[1;32mfor\u001b[0m \u001b[0mi\u001b[0m \u001b[1;32min\u001b[0m \u001b[0mrange\u001b[0m\u001b[1;33m(\u001b[0m\u001b[1;36m13\u001b[0m\u001b[1;33m,\u001b[0m \u001b[1;36m83\u001b[0m\u001b[1;33m*\u001b[0m\u001b[1;36m12\u001b[0m\u001b[1;33m,\u001b[0m \u001b[1;36m12\u001b[0m\u001b[1;33m)\u001b[0m\u001b[1;33m:\u001b[0m\u001b[1;33m\u001b[0m\u001b[1;33m\u001b[0m\u001b[0m\n\u001b[1;32m----> 4\u001b[1;33m     \u001b[0med\u001b[0m\u001b[1;33m.\u001b[0m\u001b[0mappend\u001b[0m\u001b[1;33m(\u001b[0m\u001b[0mstate_info_ed\u001b[0m\u001b[1;33m[\u001b[0m\u001b[0mstate\u001b[0m\u001b[1;33m]\u001b[0m\u001b[1;33m[\u001b[0m\u001b[0mi\u001b[0m\u001b[1;33m]\u001b[0m\u001b[1;33m)\u001b[0m\u001b[1;33m\u001b[0m\u001b[1;33m\u001b[0m\u001b[0m\n\u001b[0m\u001b[0;32m      5\u001b[0m     \u001b[0mnoed\u001b[0m\u001b[1;33m.\u001b[0m\u001b[0mappend\u001b[0m\u001b[1;33m(\u001b[0m\u001b[0mstate_info_noed\u001b[0m\u001b[1;33m[\u001b[0m\u001b[0mstate\u001b[0m\u001b[1;33m]\u001b[0m\u001b[1;33m[\u001b[0m\u001b[0mi\u001b[0m\u001b[1;33m]\u001b[0m\u001b[1;33m)\u001b[0m\u001b[1;33m\u001b[0m\u001b[1;33m\u001b[0m\u001b[0m\n\u001b[0;32m      6\u001b[0m \u001b[0mplt\u001b[0m\u001b[1;33m.\u001b[0m\u001b[0mplot\u001b[0m\u001b[1;33m(\u001b[0m\u001b[0mx\u001b[0m\u001b[1;33m,\u001b[0m \u001b[0med\u001b[0m\u001b[1;33m)\u001b[0m\u001b[1;33m\u001b[0m\u001b[1;33m\u001b[0m\u001b[0m\n",
      "\u001b[1;31mNameError\u001b[0m: name 'state_info_ed' is not defined"
     ]
    }
   ],
   "source": [
    "ed, noed = [], []\n",
    "state='SURG'\n",
    "for i in range(13, 83*12, 12):\n",
    "    ed.append(state_info_ed[state][i])\n",
    "    noed.append(state_info_noed[state][i])\n",
    "plt.plot(x, ed)\n",
    "plt.plot(x, noed)\n",
    "\n",
    "plt.legend(['ed', 'noed'], bbox_to_anchor=(1, 1))\n",
    "plt.title(state)"
   ]
  },
  {
   "cell_type": "code",
   "execution_count": 21,
   "id": "6eec14b4-41ca-471a-b77d-854c52235dda",
   "metadata": {},
   "outputs": [
    {
     "data": {
      "text/plain": [
       "<matplotlib.legend.Legend at 0x2553995ee20>"
      ]
     },
     "execution_count": 21,
     "metadata": {},
     "output_type": "execute_result"
    },
    {
     "data": {
      "image/png": "[encoded data removed]",
      "text/plain": [
       "<Figure size 432x288 with 1 Axes>"
      ]
     },
     "metadata": {
      "needs_background": "light"
     },
     "output_type": "display_data"
    }
   ],
   "source": [
    "for state in state_info_ed.columns:\n",
    "    pop=[]\n",
    "    for i in range(13, 83*12, 12):\n",
    "        pop.append(state_info_ed[state][i])\n",
    "    plt.plot(x, pop)\n",
    "    \n",
    "plt.legend(state_info_ed.columns, bbox_to_anchor=(1, 1))"
   ]
  },
  {
   "cell_type": "code",
   "execution_count": 22,
   "id": "30cae8d2-d456-4082-bc13-fac817153f64",
   "metadata": {},
   "outputs": [
    {
     "data": {
      "text/plain": [
       "<matplotlib.legend.Legend at 0x25539bdfd00>"
      ]
     },
     "execution_count": 22,
     "metadata": {},
     "output_type": "execute_result"
    },
    {
     "data": {
      "image/png": "[encoded data removed]",
      "text/plain": [
       "<Figure size 432x288 with 1 Axes>"
      ]
     },
     "metadata": {
      "needs_background": "light"
     },
     "output_type": "display_data"
    }
   ],
   "source": [
    "for state in state_info_noed.columns:\n",
    "    pop=[]\n",
    "    for i in range(13, 83*12, 12):\n",
    "        pop.append(state_info_noed[state][i])\n",
    "    plt.plot(x, pop)\n",
    "    \n",
    "plt.legend(state_info_noed.columns, bbox_to_anchor=(1, 1))"
   ]
  },
  {
   "cell_type": "code",
   "execution_count": 12,
   "id": "87616dad-5e7c-4fba-b52c-5c83297e9314",
   "metadata": {},
   "outputs": [],
   "source": [
    "def gof(obs, exp):\n",
    "    # chi-squared\n",
    "    # inputs: numpy arrays of observed and expected values\n",
    "    chi = ((obs-exp)**2)\n",
    "    chi_sq = sum(chi)\n",
    "    return chi_sq.sum()\n",
    "\n",
    "def grouping(deaths):\n",
    "    '''Convert cancer mortality rate by each age into age groups\n",
    "       15-19, 20-24, 25-34, 35-44, 45-54, 55-64, 65-74, 75-84\n",
    "       Input is a numpy array'''\n",
    "    # For SEER mortality\n",
    "    lst = []\n",
    "    # Group 18-19 as 15-19\n",
    "    lst.append(deaths[0:2].mean())\n",
    "    # Group 20-24\n",
    "    lst.append(deaths[2:7].mean())\n",
    "    # Group 25-29\n",
    "    lst.append(deaths[7:12].mean())    \n",
    "    # Group 30-34\n",
    "    lst.append(deaths[12:17].mean())\n",
    "    # Group 35-39\n",
    "    lst.append(deaths[17:22].mean())\n",
    "    # Group 40-44\n",
    "    lst.append(deaths[22:27].mean())\n",
    "    # Group 45-49\n",
    "    lst.append(deaths[27:32].mean())   \n",
    "    # Group 50-54\n",
    "    lst.append(deaths[32:37].mean())\n",
    "    # Group 55-59\n",
    "    lst.append(deaths[37:42].mean())\n",
    "    # Group 60-64\n",
    "    lst.append(deaths[42:47].mean())\n",
    "    # Group 65-69\n",
    "    lst.append(deaths[47:52].mean())\n",
    "    # Group 70-74\n",
    "    lst.append(deaths[52:57].mean())\n",
    "    # Group 75-79\n",
    "    lst.append(deaths[57:62].mean())\n",
    "    # Group 80-84\n",
    "    lst.append(deaths[62:67].mean())\n",
    "\n",
    "    # Convert list into numpy array\n",
    "    newArr = np.array(lst)\n",
    "    return newArr"
   ]
  },
  {
   "cell_type": "code",
   "execution_count": 12,
   "id": "750df929-4204-438d-89b1-460629ac8610",
   "metadata": {},
   "outputs": [],
   "source": [
    "# Load target data\n",
    "target_incid = pd.read_excel('../data/targets/PC/overall_cancer_incidence.xlsx')#, sheet_name=c.POPULATION) # age 18 - 85\n",
    "target_mort = pd.read_excel('../data/targets/PC/SEER_mortality.xlsx')#, sheet_name=c.POPULATION) # age groups\n",
    "# Drop 1st column\n",
    "target_incid = target_incid.iloc[:,1:]\n",
    "target_mort = target_mort.iloc[:,1:]\n",
    "\n",
    "# Drop age 85+ and Drop age groups < 1 year, 1-4 years, 5-9 years, 10-14 years\n",
    "target_incid = target_incid.iloc[:-1]\n",
    "target_mort = target_mort.iloc[4:-1]\n",
    "\n",
    "# Convert to numpy array\n",
    "target_incid = np.array(target_incid['overall_incid'].tolist())\n",
    "target_mort = np.array(target_mort['Rate'].tolist())"
   ]
  },
  {
   "cell_type": "code",
   "execution_count": 13,
   "id": "5182c332-75ed-424e-929e-244b08b3d5fe",
   "metadata": {},
   "outputs": [],
   "source": [
    "cancer_incidence=pd.read_excel('cancer_incidence_total_pop.xlsx')['incid'][0:67]\n",
    "cancer_mort=pd.read_excel('cancer_mortality_total_pop.xlsx')['mort'][0:67]"
   ]
  },
  {
   "cell_type": "code",
   "execution_count": 14,
   "id": "e28e8d32-ca6b-46f2-b550-c1291ba3402d",
   "metadata": {},
   "outputs": [],
   "source": [
    "new_cancer_mort = grouping(cancer_mort)"
   ]
  },
  {
   "cell_type": "code",
   "execution_count": 15,
   "id": "259c7fbf-4682-4477-a789-ec4cc5ccdc95",
   "metadata": {},
   "outputs": [
    {
     "name": "stdout",
     "output_type": "stream",
     "text": [
      "3043.8026301952455\n",
      "1050.06239710844\n"
     ]
    }
   ],
   "source": [
    "incid_gof = gof(np.array(cancer_incidence), np.array(target_incid))\n",
    "mort_gof = gof(np.array(new_cancer_mort), np.array(target_mort))\n",
    "print(incid_gof)\n",
    "print(mort_gof)"
   ]
  },
  {
   "cell_type": "markdown",
   "id": "1f8023d9-7a22-40bf-99c1-7dd99c98aa61",
   "metadata": {},
   "source": [
    "# Early detection"
   ]
  },
  {
   "cell_type": "code",
   "execution_count": 10,
   "id": "329a058c-b8ee-42b7-8e5f-0c393fddfa47",
   "metadata": {},
   "outputs": [],
   "source": [
    "import main\n",
    "import calibration as c\n",
    "\n",
    "from timeit import default_timer as timer\n",
    "\n",
    "from datetime import timedelta\n",
    "from datetime import datetime\n",
    "\n",
    "import pandas as pd\n",
    "import matplotlib.pyplot as plt\n",
    "import numpy as np\n",
    "\n",
    "from tqdm import tqdm"
   ]
  },
  {
   "cell_type": "code",
   "execution_count": 11,
   "id": "13564f4b-5d5b-48ba-8bdb-3737b740a2d3",
   "metadata": {},
   "outputs": [
    {
     "name": "stderr",
     "output_type": "stream",
     "text": [
      "100%|██████████████████████████████████████████████████████████████████████████████████| 10/10 [00:04<00:00,  2.41it/s]\n"
     ]
    }
   ],
   "source": [
    "years_gained=[]\n",
    "for nfold in tqdm(range(1,11,1)):\n",
    "    main.run_model(nfold)\n",
    "    dat = pd.read_excel('state_summ_total_pop.xlsx', index_col = 0) .iloc[1:,:]\n",
    "    if nfold==1:\n",
    "        ref_point=dat.loc[:,'NORM':'DDIST'].sum(axis=1).sum()/12\n",
    "    years_gained.append(dat.loc[:,'NORM':'DDIST'].sum(axis=1).sum()/12-ref_point)"
   ]
  },
  {
   "cell_type": "code",
   "execution_count": 12,
   "id": "a85c7c3b-5eb9-4587-9b72-c3b26b1d9311",
   "metadata": {},
   "outputs": [
    {
     "data": {
      "text/plain": [
       "[<matplotlib.lines.Line2D at 0x2493eb70580>]"
      ]
     },
     "execution_count": 12,
     "metadata": {},
     "output_type": "execute_result"
    },
    {
     "data": {
      "image/png": "[encoded data removed]",
      "text/plain": [
       "<Figure size 432x288 with 1 Axes>"
      ]
     },
     "metadata": {
      "needs_background": "light"
     },
     "output_type": "display_data"
    }
   ],
   "source": [
    "plt.plot(range(1,11,1), years_gained)"
   ]
  },
  {
   "cell_type": "code",
   "execution_count": null,
   "id": "23c6146f-da1b-4c59-9aaf-04ec5afae5db",
   "metadata": {},
   "outputs": [],
   "source": []
  }
 ],
 "metadata": {
  "kernelspec": {
   "display_name": "py39",
   "language": "python",
   "name": "py39"
  },
  "language_info": {
   "codemirror_mode": {
    "name": "ipython",
    "version": 3
   },
   "file_extension": ".py",
   "mimetype": "text/x-python",
   "name": "python",
   "nbconvert_exporter": "python",
   "pygments_lexer": "ipython3",
   "version": "3.9.0"
  }
 },
 "nbformat": 4,
 "nbformat_minor": 5
}
