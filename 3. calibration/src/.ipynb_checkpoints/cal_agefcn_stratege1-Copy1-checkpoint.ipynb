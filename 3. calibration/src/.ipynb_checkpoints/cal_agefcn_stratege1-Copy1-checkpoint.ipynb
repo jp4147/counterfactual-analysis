{
 "cells": [
  {
   "cell_type": "code",
   "execution_count": 6,
   "id": "48388eda-f6ba-4728-8959-89cf49466795",
   "metadata": {},
   "outputs": [],
   "source": [
    "def rate_to_prob(rate, time):\n",
    "\t# Converts rate into a probability\n",
    "    prob = 1 - np.exp(-abs(rate) * time)\n",
    "    return prob\n",
    "\n",
    "def prob_to_rate(prob, time):\n",
    "\t# Converts probability to rate\n",
    "    rate = -(np.log(1 - prob)) / time\n",
    "    return rate\n",
    "\n",
    "def annual_prob_to_monthly_prob(yearly_prob):\n",
    "    # Converts annual probability to monthly probability\n",
    "    return 1 - (1 - yearly_prob) ** (1/12)"
   ]
  },
  {
   "cell_type": "code",
   "execution_count": 40,
   "id": "1294050d-40ab-42dc-b464-eeb2b3eb04da",
   "metadata": {},
   "outputs": [
    {
     "data": {
      "text/plain": [
       "1.0"
      ]
     },
     "execution_count": 40,
     "metadata": {},
     "output_type": "execute_result"
    }
   ],
   "source": [
    "annual_prob_to_monthly_prob(1)"
   ]
  },
  {
   "cell_type": "code",
   "execution_count": 7,
   "id": "fb330cad-afcb-4951-8a82-b6776d39a7fa",
   "metadata": {},
   "outputs": [],
   "source": [
    "#Localized: 0.394, Regional: 0.133, Distant: 0.029\n",
    "def survival2mortality_prob(prob, year):\n",
    "    yearly_survival_rate=cf.prob_to_rate(prob,year)\n",
    "    yearly_mortality_rate=1-yearly_survival_rate\n",
    "    yearly_mortality_prob=cf.rate_to_prob(yearly_mortality_rate, 1)\n",
    "    \n",
    "    return yearly_mortality_prob"
   ]
  },
  {
   "cell_type": "code",
   "execution_count": null,
   "id": "3368d69b-8335-43f4-9cb0-1d982592370e",
   "metadata": {},
   "outputs": [],
   "source": [
    "5 year survival 40% -> 5 year death 60%"
   ]
  },
  {
   "cell_type": "code",
   "execution_count": 13,
   "id": "1aca52b6-90b5-4b3d-b1c8-b42c6d0e4004",
   "metadata": {},
   "outputs": [
    {
     "data": {
      "text/plain": [
       "0.1674467925981269"
      ]
     },
     "execution_count": 13,
     "metadata": {},
     "output_type": "execute_result"
    }
   ],
   "source": [
    "rate_to_prob(prob_to_rate(0.6, 5),1)"
   ]
  },
  {
   "cell_type": "code",
   "execution_count": null,
   "id": "ce21039c-76ff-4be6-af97-30a1c540caa9",
   "metadata": {},
   "outputs": [],
   "source": [
    "rate_to_prob(prob_to_rate(0.6, 5),1)"
   ]
  },
  {
   "cell_type": "code",
   "execution_count": 49,
   "id": "c38c159b-041f-48c6-a38f-880f241817f2",
   "metadata": {},
   "outputs": [],
   "source": [
    "data = {\n",
    "  \"calories\": [420, 380, 390],\n",
    "  \"duration\": [50, 40, 45]\n",
    "}\n",
    "\n",
    "df1 = pd.DataFrame(data, index = [\"day1\", \"day2\", \"day3\"])\n",
    "\n",
    "data = {\n",
    "  \"calories\": [4, 3, 39],\n",
    "  \"duration\": [0, 4, 4]\n",
    "}\n",
    "\n",
    "df2 = pd.DataFrame(data, index = [\"day1\", \"day2\", \"day3\"])\n",
    "\n",
    "data = {\n",
    "  \"calories\": [9, 87, 78],\n",
    "  \"duration\": [1, 12, 52]\n",
    "}\n",
    "\n",
    "df3 = pd.DataFrame(data, index = [\"day1\", \"day2\", \"day3\"])\n",
    "\n",
    "\n",
    "test={}\n",
    "test[0] = df1\n",
    "test[1] = df2\n",
    "test[2] = df2\n",
    "\n",
    "# test[0].loc['day1','calories'] = 2"
   ]
  },
  {
   "cell_type": "code",
   "execution_count": 50,
   "id": "6421f498-c45e-4922-9ce8-caadb7a97eb8",
   "metadata": {},
   "outputs": [
    {
     "data": {
      "text/plain": [
       "{0:       calories  duration\n",
       " day1       420        50\n",
       " day2       380        40\n",
       " day3       390        45,\n",
       " 1:       calories  duration\n",
       " day1         4         0\n",
       " day2         3         4\n",
       " day3        39         4,\n",
       " 2:       calories  duration\n",
       " day1         4         0\n",
       " day2         3         4\n",
       " day3        39         4}"
      ]
     },
     "execution_count": 50,
     "metadata": {},
     "output_type": "execute_result"
    }
   ],
   "source": [
    "test"
   ]
  },
  {
   "cell_type": "code",
   "execution_count": 51,
   "id": "ee6e0236-5a9f-462a-945f-7d1e2094cd1d",
   "metadata": {},
   "outputs": [
    {
     "name": "stdout",
     "output_type": "stream",
     "text": [
      "0\n",
      "1\n",
      "2\n"
     ]
    }
   ],
   "source": [
    "for age in range(3):\n",
    "    if age < 1:\n",
    "        test[age].loc['day1','calories'] = -4\n",
    "        print(age)\n",
    "    elif age < 2:\n",
    "        test[age].loc['day1','calories'] = -100\n",
    "        print(age)\n",
    "    else:\n",
    "        test[age].loc['day1','calories'] = -1\n",
    "        print(age)"
   ]
  },
  {
   "cell_type": "code",
   "execution_count": 52,
   "id": "b275837c-f996-496a-a347-87d5ca9979b0",
   "metadata": {},
   "outputs": [
    {
     "data": {
      "text/plain": [
       "{0:       calories  duration\n",
       " day1        -4        50\n",
       " day2       380        40\n",
       " day3       390        45,\n",
       " 1:       calories  duration\n",
       " day1        -1         0\n",
       " day2         3         4\n",
       " day3        39         4,\n",
       " 2:       calories  duration\n",
       " day1        -1         0\n",
       " day2         3         4\n",
       " day3        39         4}"
      ]
     },
     "execution_count": 52,
     "metadata": {},
     "output_type": "execute_result"
    }
   ],
   "source": [
    "test"
   ]
  },
  {
   "cell_type": "markdown",
   "id": "052ec0c4-93e4-490c-8412-2c1aee09d551",
   "metadata": {
    "tags": []
   },
   "source": [
    "# run model"
   ]
  },
  {
   "cell_type": "code",
   "execution_count": 1,
   "id": "05cccdb0-d877-49f4-a2d2-b74aae4ce06f",
   "metadata": {},
   "outputs": [],
   "source": [
    "import main\n",
    "import configs as c\n",
    "import calibration as cal\n",
    "\n",
    "from timeit import default_timer as timer\n",
    "\n",
    "from datetime import timedelta\n",
    "from datetime import datetime\n",
    "\n",
    "import pandas as pd\n",
    "import matplotlib.pyplot as plt\n",
    "import numpy as np"
   ]
  },
  {
   "cell_type": "code",
   "execution_count": 2,
   "id": "c1391a86-47f5-4c42-9d4f-fc5279d98300",
   "metadata": {
    "tags": []
   },
   "outputs": [],
   "source": [
    "# 79309.73077651438\n",
    "# 19957.986336078873\n",
    "# 0.002751804274537956\n",
    "\n",
    "# 0.002751804274537956*10000000"
   ]
  },
  {
   "cell_type": "code",
   "execution_count": 3,
   "id": "addc6b98-0fdf-49d2-be00-7c9d070e1c20",
   "metadata": {},
   "outputs": [],
   "source": [
    "# list(range(18, 100, 5))[1:]"
   ]
  },
  {
   "cell_type": "code",
   "execution_count": null,
   "id": "bc852889-c0c6-45ad-b527-3bc74318177d",
   "metadata": {},
   "outputs": [
    {
     "name": "stdout",
     "output_type": "stream",
     "text": [
      "1.0 failed 20981.087305209414\n",
      "1.0 1 20691.077520840703\n",
      "1.0 2 20346.344455174047\n",
      "1.0 3 19979.002088953755\n",
      "1.0 5 19947.36612615526\n",
      "1.0 7 19712.86468342221\n",
      "1.0 9 19456.692678641575\n",
      "1.0 12 19397.266447778064\n",
      "1.0 15 19020.07793525233\n",
      "1.0 16 18735.73037258102\n",
      "1.0 17 18530.198401900867\n",
      "1.0 18 18066.201482209115\n",
      "1.0 19 17593.073002879857\n",
      "1.0 20 16951.810662940687\n",
      "1.0 23 16664.92259362466\n",
      "1.0 25 16148.605012547156\n",
      "1.0 26 15758.530400555395\n",
      "1.0 31 15697.2200543715\n",
      "1.0 32 15659.956265407485\n",
      "1.0 34 15215.40775392472\n",
      "1.0 37 15193.61263336018\n",
      "1.0 38 15052.415096625136\n",
      "1.0 40 14889.204544443679\n",
      "1.0 42 14374.68021351986\n",
      "1.0 44 13456.46271706728\n",
      "1.0 47 13308.673835902971\n",
      "1.0 49 13113.298428251697\n",
      "1.0 59 12395.062210410837\n",
      "1.0 62 12217.823441978924\n",
      "1.0 66 12167.52111682437\n",
      "1.0 67 11808.29771896917\n",
      "1.0 68 11224.788735434442\n",
      "1.0 72 11189.613357898283\n",
      "1.0 79 11079.657448709231\n",
      "1.0 84 10806.695939540388\n",
      "1.0 86 10062.353644384482\n",
      "1.0 89 9751.191200719608\n",
      "1.0 91 9617.260160024245\n",
      "1.0 95 9568.201454109834\n",
      "1.0 96 9356.436044682769\n",
      "1.0 98 9329.269305628532\n",
      "0.9 failed 9455.846887654772\n",
      "0.9 1 9191.908977827074\n",
      "0.9 6 9114.529217035803\n",
      "0.9 15 9086.423369872135\n",
      "0.9 17 9072.464430934826\n",
      "0.9 43 9071.619612380273\n",
      "0.9 47 9070.051916108338\n",
      "0.81 failed 9102.72020769385\n",
      "0.81 13 9067.670559964828\n",
      "0.81 25 9064.68616465152\n",
      "0.81 59 9066.003605300999\n",
      "0.81 71 9065.219085713767\n",
      "0.81 94 9065.428716484814\n",
      "0.7290000000000001 failed 9075.945046152461\n",
      "0.6561000000000001 9 9063.42618145492\n",
      "0.6561000000000001 28 9064.490531456404\n",
      "0.6561000000000001 32 9064.64778335117\n",
      "0.6561000000000001 52 9064.986624266445\n",
      "0.6561000000000001 66 9063.245948561382\n",
      "0.6561000000000001 75 9059.089767135623\n",
      "0.5904900000000002 failed 9072.584033194806\n",
      "0.5904900000000002 26 9059.302581196906\n",
      "0.5904900000000002 36 9056.270986511096\n",
      "0.5904900000000002 91 9053.631891584246\n",
      "0.5314410000000002 failed 9079.595883078971\n",
      "0.5314410000000002 3 9053.34371944918\n",
      "0.5314410000000002 18 9049.88923095441\n",
      "0.5314410000000002 19 9042.84456327248\n",
      "0.5314410000000002 42 9041.264747564168\n",
      "0.5314410000000002 67 9038.758295532087\n",
      "0.47829690000000014 47 9039.387775778849\n",
      "0.47829690000000014 65 9039.107043966895\n",
      "0.47829690000000014 81 9039.051018343433\n",
      "0.43046721000000016 failed 9065.934290401177\n",
      "0.43046721000000016 59 9039.229422632918\n",
      "0.43046721000000016 65 9037.096762939032\n",
      "0.43046721000000016 77 9035.067599278369\n",
      "0.38742048900000015 31 9031.931934112969\n",
      "0.34867844010000015 failed 9075.453327638963\n",
      "0.28242953648100017 37 9030.312358568244\n",
      "0.28242953648100017 46 9024.752986648942\n",
      "0.28242953648100017 70 9021.268385282627\n",
      "0.25418658283290013 45 9020.852233385045\n",
      "0.22876792454961012 failed 9064.71891118615\n",
      "0.22876792454961012 75 9016.36276351966\n",
      "0.22876792454961012 93 9014.822929978549\n",
      "0.2058911320946491 16 9013.275082838805\n",
      "0.2058911320946491 19 9012.353611772121\n",
      "0.2058911320946491 48 9009.983549819788\n",
      "0.2058911320946491 70 9008.407793260094\n",
      "0.2058911320946491 89 9008.277572768975\n",
      "0.2058911320946491 97 9004.424673966425\n",
      "0.2058911320946491 99 9001.506787397875\n",
      "0.1853020188851842 56 8999.541782067\n",
      "0.1853020188851842 63 8997.270304424363\n",
      "0.16677181699666577 73 8997.088625111688\n",
      "0.1500946352969992 73 8994.7175880761\n",
      "0.13508517176729928 failed 9009.112293807188\n",
      "0.0984770902183612 49 8993.578628591233\n",
      "0.04710128697246249 failed 9074.068617731496\n"
     ]
    }
   ],
   "source": [
    "start = timer()\n",
    "# main.run_model()\n",
    "main.calibrate()\n",
    "\n",
    "end = timer()\n",
    "print(f'total time: {timedelta(seconds=end-start)}')"
   ]
  },
  {
   "cell_type": "code",
   "execution_count": 5,
   "id": "4d4315d6-343f-4bf4-9296-e7c3a2df2a77",
   "metadata": {},
   "outputs": [],
   "source": [
    "# see fixed transition prbabilities\n",
    "import pickle\n",
    "with open('new_transition_probs_total_pop100please.pickle', 'rb') as handle:\n",
    "    p_transition = pickle.load(handle)"
   ]
  },
  {
   "cell_type": "code",
   "execution_count": 6,
   "id": "b0c147c6-c827-41ba-aa98-7a0b40e71764",
   "metadata": {},
   "outputs": [
    {
     "data": {
      "text/html": [
       "<div>\n",
       "<style scoped>\n",
       "    .dataframe tbody tr th:only-of-type {\n",
       "        vertical-align: middle;\n",
       "    }\n",
       "\n",
       "    .dataframe tbody tr th {\n",
       "        vertical-align: top;\n",
       "    }\n",
       "\n",
       "    .dataframe thead th {\n",
       "        text-align: right;\n",
       "    }\n",
       "</style>\n",
       "<table border=\"1\" class=\"dataframe\">\n",
       "  <thead>\n",
       "    <tr style=\"text-align: right;\">\n",
       "      <th></th>\n",
       "      <th>Value</th>\n",
       "      <th>Start</th>\n",
       "      <th>End</th>\n",
       "    </tr>\n",
       "    <tr>\n",
       "      <th>Transition</th>\n",
       "      <th></th>\n",
       "      <th></th>\n",
       "      <th></th>\n",
       "    </tr>\n",
       "  </thead>\n",
       "  <tbody>\n",
       "    <tr>\n",
       "      <th>NORM_ULOC</th>\n",
       "      <td>0.069915</td>\n",
       "      <td>NORM</td>\n",
       "      <td>ULOC</td>\n",
       "    </tr>\n",
       "    <tr>\n",
       "      <th>ULOC_UREG</th>\n",
       "      <td>0.088675</td>\n",
       "      <td>ULOC</td>\n",
       "      <td>UREG</td>\n",
       "    </tr>\n",
       "    <tr>\n",
       "      <th>UREG_UDIST</th>\n",
       "      <td>0.033992</td>\n",
       "      <td>UREG</td>\n",
       "      <td>UDIST</td>\n",
       "    </tr>\n",
       "    <tr>\n",
       "      <th>ULOC_DLOC</th>\n",
       "      <td>0.000075</td>\n",
       "      <td>ULOC</td>\n",
       "      <td>DLOC</td>\n",
       "    </tr>\n",
       "    <tr>\n",
       "      <th>UREG_DREG</th>\n",
       "      <td>0.000160</td>\n",
       "      <td>UREG</td>\n",
       "      <td>DREG</td>\n",
       "    </tr>\n",
       "    <tr>\n",
       "      <th>UDIST_DDIST</th>\n",
       "      <td>0.000375</td>\n",
       "      <td>UDIST</td>\n",
       "      <td>DDIST</td>\n",
       "    </tr>\n",
       "    <tr>\n",
       "      <th>DLOC_PCMORT</th>\n",
       "      <td>0.170000</td>\n",
       "      <td>DLOC</td>\n",
       "      <td>PCMORT</td>\n",
       "    </tr>\n",
       "    <tr>\n",
       "      <th>DREG_PCMORT</th>\n",
       "      <td>0.332000</td>\n",
       "      <td>DREG</td>\n",
       "      <td>PCMORT</td>\n",
       "    </tr>\n",
       "    <tr>\n",
       "      <th>DDIST_PCMORT</th>\n",
       "      <td>0.510000</td>\n",
       "      <td>DDIST</td>\n",
       "      <td>PCMORT</td>\n",
       "    </tr>\n",
       "    <tr>\n",
       "      <th>DLOC_SURG</th>\n",
       "      <td>0.906282</td>\n",
       "      <td>DLOC</td>\n",
       "      <td>SURG</td>\n",
       "    </tr>\n",
       "    <tr>\n",
       "      <th>DREG_SURG</th>\n",
       "      <td>0.000177</td>\n",
       "      <td>DREG</td>\n",
       "      <td>SURG</td>\n",
       "    </tr>\n",
       "    <tr>\n",
       "      <th>SURG_SMORT</th>\n",
       "      <td>0.166000</td>\n",
       "      <td>SURG</td>\n",
       "      <td>SMORT</td>\n",
       "    </tr>\n",
       "    <tr>\n",
       "      <th>SURG_RECUR</th>\n",
       "      <td>0.000422</td>\n",
       "      <td>SURG</td>\n",
       "      <td>RECUR</td>\n",
       "    </tr>\n",
       "    <tr>\n",
       "      <th>DDIST_PALCARE</th>\n",
       "      <td>0.000147</td>\n",
       "      <td>DDIST</td>\n",
       "      <td>PALCARE</td>\n",
       "    </tr>\n",
       "    <tr>\n",
       "      <th>PALCARE_PCMORT</th>\n",
       "      <td>0.028290</td>\n",
       "      <td>PALCARE</td>\n",
       "      <td>PCMORT</td>\n",
       "    </tr>\n",
       "    <tr>\n",
       "      <th>RECUR_PCMORT</th>\n",
       "      <td>0.000005</td>\n",
       "      <td>RECUR</td>\n",
       "      <td>PCMORT</td>\n",
       "    </tr>\n",
       "  </tbody>\n",
       "</table>\n",
       "</div>"
      ],
      "text/plain": [
       "                   Value    Start      End\n",
       "Transition                                \n",
       "NORM_ULOC       0.069915     NORM     ULOC\n",
       "ULOC_UREG       0.088675     ULOC     UREG\n",
       "UREG_UDIST      0.033992     UREG    UDIST\n",
       "ULOC_DLOC       0.000075     ULOC     DLOC\n",
       "UREG_DREG       0.000160     UREG     DREG\n",
       "UDIST_DDIST     0.000375    UDIST    DDIST\n",
       "DLOC_PCMORT     0.170000     DLOC   PCMORT\n",
       "DREG_PCMORT     0.332000     DREG   PCMORT\n",
       "DDIST_PCMORT    0.510000    DDIST   PCMORT\n",
       "DLOC_SURG       0.906282     DLOC     SURG\n",
       "DREG_SURG       0.000177     DREG     SURG\n",
       "SURG_SMORT      0.166000     SURG    SMORT\n",
       "SURG_RECUR      0.000422     SURG    RECUR\n",
       "DDIST_PALCARE   0.000147    DDIST  PALCARE\n",
       "PALCARE_PCMORT  0.028290  PALCARE   PCMORT\n",
       "RECUR_PCMORT    0.000005    RECUR   PCMORT"
      ]
     },
     "execution_count": 6,
     "metadata": {},
     "output_type": "execute_result"
    }
   ],
   "source": [
    "p_transition[0] # age 18"
   ]
  },
  {
   "cell_type": "code",
   "execution_count": 7,
   "id": "6c47456a-05d5-45ea-8e86-d6ad4eb08fc1",
   "metadata": {},
   "outputs": [
    {
     "data": {
      "text/html": [
       "<div>\n",
       "<style scoped>\n",
       "    .dataframe tbody tr th:only-of-type {\n",
       "        vertical-align: middle;\n",
       "    }\n",
       "\n",
       "    .dataframe tbody tr th {\n",
       "        vertical-align: top;\n",
       "    }\n",
       "\n",
       "    .dataframe thead th {\n",
       "        text-align: right;\n",
       "    }\n",
       "</style>\n",
       "<table border=\"1\" class=\"dataframe\">\n",
       "  <thead>\n",
       "    <tr style=\"text-align: right;\">\n",
       "      <th></th>\n",
       "      <th>Value</th>\n",
       "      <th>Start</th>\n",
       "      <th>End</th>\n",
       "    </tr>\n",
       "    <tr>\n",
       "      <th>Transition</th>\n",
       "      <th></th>\n",
       "      <th></th>\n",
       "      <th></th>\n",
       "    </tr>\n",
       "  </thead>\n",
       "  <tbody>\n",
       "    <tr>\n",
       "      <th>NORM_ULOC</th>\n",
       "      <td>0.069915</td>\n",
       "      <td>NORM</td>\n",
       "      <td>ULOC</td>\n",
       "    </tr>\n",
       "    <tr>\n",
       "      <th>ULOC_UREG</th>\n",
       "      <td>0.088675</td>\n",
       "      <td>ULOC</td>\n",
       "      <td>UREG</td>\n",
       "    </tr>\n",
       "    <tr>\n",
       "      <th>UREG_UDIST</th>\n",
       "      <td>0.033992</td>\n",
       "      <td>UREG</td>\n",
       "      <td>UDIST</td>\n",
       "    </tr>\n",
       "    <tr>\n",
       "      <th>ULOC_DLOC</th>\n",
       "      <td>0.000093</td>\n",
       "      <td>ULOC</td>\n",
       "      <td>DLOC</td>\n",
       "    </tr>\n",
       "    <tr>\n",
       "      <th>UREG_DREG</th>\n",
       "      <td>0.000185</td>\n",
       "      <td>UREG</td>\n",
       "      <td>DREG</td>\n",
       "    </tr>\n",
       "    <tr>\n",
       "      <th>UDIST_DDIST</th>\n",
       "      <td>0.000301</td>\n",
       "      <td>UDIST</td>\n",
       "      <td>DDIST</td>\n",
       "    </tr>\n",
       "    <tr>\n",
       "      <th>DLOC_PCMORT</th>\n",
       "      <td>0.170000</td>\n",
       "      <td>DLOC</td>\n",
       "      <td>PCMORT</td>\n",
       "    </tr>\n",
       "    <tr>\n",
       "      <th>DREG_PCMORT</th>\n",
       "      <td>0.332000</td>\n",
       "      <td>DREG</td>\n",
       "      <td>PCMORT</td>\n",
       "    </tr>\n",
       "    <tr>\n",
       "      <th>DDIST_PCMORT</th>\n",
       "      <td>0.510000</td>\n",
       "      <td>DDIST</td>\n",
       "      <td>PCMORT</td>\n",
       "    </tr>\n",
       "    <tr>\n",
       "      <th>DLOC_SURG</th>\n",
       "      <td>0.906282</td>\n",
       "      <td>DLOC</td>\n",
       "      <td>SURG</td>\n",
       "    </tr>\n",
       "    <tr>\n",
       "      <th>DREG_SURG</th>\n",
       "      <td>0.000177</td>\n",
       "      <td>DREG</td>\n",
       "      <td>SURG</td>\n",
       "    </tr>\n",
       "    <tr>\n",
       "      <th>SURG_SMORT</th>\n",
       "      <td>0.166000</td>\n",
       "      <td>SURG</td>\n",
       "      <td>SMORT</td>\n",
       "    </tr>\n",
       "    <tr>\n",
       "      <th>SURG_RECUR</th>\n",
       "      <td>0.000422</td>\n",
       "      <td>SURG</td>\n",
       "      <td>RECUR</td>\n",
       "    </tr>\n",
       "    <tr>\n",
       "      <th>DDIST_PALCARE</th>\n",
       "      <td>0.000147</td>\n",
       "      <td>DDIST</td>\n",
       "      <td>PALCARE</td>\n",
       "    </tr>\n",
       "    <tr>\n",
       "      <th>PALCARE_PCMORT</th>\n",
       "      <td>0.028290</td>\n",
       "      <td>PALCARE</td>\n",
       "      <td>PCMORT</td>\n",
       "    </tr>\n",
       "    <tr>\n",
       "      <th>RECUR_PCMORT</th>\n",
       "      <td>0.000005</td>\n",
       "      <td>RECUR</td>\n",
       "      <td>PCMORT</td>\n",
       "    </tr>\n",
       "  </tbody>\n",
       "</table>\n",
       "</div>"
      ],
      "text/plain": [
       "                   Value    Start      End\n",
       "Transition                                \n",
       "NORM_ULOC       0.069915     NORM     ULOC\n",
       "ULOC_UREG       0.088675     ULOC     UREG\n",
       "UREG_UDIST      0.033992     UREG    UDIST\n",
       "ULOC_DLOC       0.000093     ULOC     DLOC\n",
       "UREG_DREG       0.000185     UREG     DREG\n",
       "UDIST_DDIST     0.000301    UDIST    DDIST\n",
       "DLOC_PCMORT     0.170000     DLOC   PCMORT\n",
       "DREG_PCMORT     0.332000     DREG   PCMORT\n",
       "DDIST_PCMORT    0.510000    DDIST   PCMORT\n",
       "DLOC_SURG       0.906282     DLOC     SURG\n",
       "DREG_SURG       0.000177     DREG     SURG\n",
       "SURG_SMORT      0.166000     SURG    SMORT\n",
       "SURG_RECUR      0.000422     SURG    RECUR\n",
       "DDIST_PALCARE   0.000147    DDIST  PALCARE\n",
       "PALCARE_PCMORT  0.028290  PALCARE   PCMORT\n",
       "RECUR_PCMORT    0.000005    RECUR   PCMORT"
      ]
     },
     "execution_count": 7,
     "metadata": {},
     "output_type": "execute_result"
    }
   ],
   "source": [
    "p_transition[22] #age 40"
   ]
  },
  {
   "cell_type": "code",
   "execution_count": 8,
   "id": "ecc4e8f7-6e54-4caf-8a37-35a43c8bd404",
   "metadata": {},
   "outputs": [
    {
     "data": {
      "text/html": [
       "<div>\n",
       "<style scoped>\n",
       "    .dataframe tbody tr th:only-of-type {\n",
       "        vertical-align: middle;\n",
       "    }\n",
       "\n",
       "    .dataframe tbody tr th {\n",
       "        vertical-align: top;\n",
       "    }\n",
       "\n",
       "    .dataframe thead th {\n",
       "        text-align: right;\n",
       "    }\n",
       "</style>\n",
       "<table border=\"1\" class=\"dataframe\">\n",
       "  <thead>\n",
       "    <tr style=\"text-align: right;\">\n",
       "      <th></th>\n",
       "      <th>Value</th>\n",
       "      <th>Start</th>\n",
       "      <th>End</th>\n",
       "    </tr>\n",
       "    <tr>\n",
       "      <th>Transition</th>\n",
       "      <th></th>\n",
       "      <th></th>\n",
       "      <th></th>\n",
       "    </tr>\n",
       "  </thead>\n",
       "  <tbody>\n",
       "    <tr>\n",
       "      <th>NORM_ULOC</th>\n",
       "      <td>0.069915</td>\n",
       "      <td>NORM</td>\n",
       "      <td>ULOC</td>\n",
       "    </tr>\n",
       "    <tr>\n",
       "      <th>ULOC_UREG</th>\n",
       "      <td>0.088675</td>\n",
       "      <td>ULOC</td>\n",
       "      <td>UREG</td>\n",
       "    </tr>\n",
       "    <tr>\n",
       "      <th>UREG_UDIST</th>\n",
       "      <td>0.033992</td>\n",
       "      <td>UREG</td>\n",
       "      <td>UDIST</td>\n",
       "    </tr>\n",
       "    <tr>\n",
       "      <th>ULOC_DLOC</th>\n",
       "      <td>0.000085</td>\n",
       "      <td>ULOC</td>\n",
       "      <td>DLOC</td>\n",
       "    </tr>\n",
       "    <tr>\n",
       "      <th>UREG_DREG</th>\n",
       "      <td>0.000247</td>\n",
       "      <td>UREG</td>\n",
       "      <td>DREG</td>\n",
       "    </tr>\n",
       "    <tr>\n",
       "      <th>UDIST_DDIST</th>\n",
       "      <td>0.000454</td>\n",
       "      <td>UDIST</td>\n",
       "      <td>DDIST</td>\n",
       "    </tr>\n",
       "    <tr>\n",
       "      <th>DLOC_PCMORT</th>\n",
       "      <td>0.170000</td>\n",
       "      <td>DLOC</td>\n",
       "      <td>PCMORT</td>\n",
       "    </tr>\n",
       "    <tr>\n",
       "      <th>DREG_PCMORT</th>\n",
       "      <td>0.332000</td>\n",
       "      <td>DREG</td>\n",
       "      <td>PCMORT</td>\n",
       "    </tr>\n",
       "    <tr>\n",
       "      <th>DDIST_PCMORT</th>\n",
       "      <td>0.510000</td>\n",
       "      <td>DDIST</td>\n",
       "      <td>PCMORT</td>\n",
       "    </tr>\n",
       "    <tr>\n",
       "      <th>DLOC_SURG</th>\n",
       "      <td>0.906282</td>\n",
       "      <td>DLOC</td>\n",
       "      <td>SURG</td>\n",
       "    </tr>\n",
       "    <tr>\n",
       "      <th>DREG_SURG</th>\n",
       "      <td>0.000177</td>\n",
       "      <td>DREG</td>\n",
       "      <td>SURG</td>\n",
       "    </tr>\n",
       "    <tr>\n",
       "      <th>SURG_SMORT</th>\n",
       "      <td>0.166000</td>\n",
       "      <td>SURG</td>\n",
       "      <td>SMORT</td>\n",
       "    </tr>\n",
       "    <tr>\n",
       "      <th>SURG_RECUR</th>\n",
       "      <td>0.000422</td>\n",
       "      <td>SURG</td>\n",
       "      <td>RECUR</td>\n",
       "    </tr>\n",
       "    <tr>\n",
       "      <th>DDIST_PALCARE</th>\n",
       "      <td>0.000147</td>\n",
       "      <td>DDIST</td>\n",
       "      <td>PALCARE</td>\n",
       "    </tr>\n",
       "    <tr>\n",
       "      <th>PALCARE_PCMORT</th>\n",
       "      <td>0.028290</td>\n",
       "      <td>PALCARE</td>\n",
       "      <td>PCMORT</td>\n",
       "    </tr>\n",
       "    <tr>\n",
       "      <th>RECUR_PCMORT</th>\n",
       "      <td>0.000005</td>\n",
       "      <td>RECUR</td>\n",
       "      <td>PCMORT</td>\n",
       "    </tr>\n",
       "  </tbody>\n",
       "</table>\n",
       "</div>"
      ],
      "text/plain": [
       "                   Value    Start      End\n",
       "Transition                                \n",
       "NORM_ULOC       0.069915     NORM     ULOC\n",
       "ULOC_UREG       0.088675     ULOC     UREG\n",
       "UREG_UDIST      0.033992     UREG    UDIST\n",
       "ULOC_DLOC       0.000085     ULOC     DLOC\n",
       "UREG_DREG       0.000247     UREG     DREG\n",
       "UDIST_DDIST     0.000454    UDIST    DDIST\n",
       "DLOC_PCMORT     0.170000     DLOC   PCMORT\n",
       "DREG_PCMORT     0.332000     DREG   PCMORT\n",
       "DDIST_PCMORT    0.510000    DDIST   PCMORT\n",
       "DLOC_SURG       0.906282     DLOC     SURG\n",
       "DREG_SURG       0.000177     DREG     SURG\n",
       "SURG_SMORT      0.166000     SURG    SMORT\n",
       "SURG_RECUR      0.000422     SURG    RECUR\n",
       "DDIST_PALCARE   0.000147    DDIST  PALCARE\n",
       "PALCARE_PCMORT  0.028290  PALCARE   PCMORT\n",
       "RECUR_PCMORT    0.000005    RECUR   PCMORT"
      ]
     },
     "execution_count": 8,
     "metadata": {},
     "output_type": "execute_result"
    }
   ],
   "source": [
    "p_transition[52] # age 70 "
   ]
  },
  {
   "cell_type": "code",
   "execution_count": 9,
   "id": "8af2096e-9a54-4f52-a042-52d63d5f885b",
   "metadata": {},
   "outputs": [
    {
     "data": {
      "image/png": "[encoded data removed]",
      "text/plain": [
       "<Figure size 432x288 with 1 Axes>"
      ]
     },
     "metadata": {
      "needs_background": "light"
     },
     "output_type": "display_data"
    }
   ],
   "source": [
    "import pandas as pd\n",
    "import matplotlib.pyplot as plt\n",
    "import numpy as np\n",
    "\n",
    "INC_TARGET_PATH = '../data/targets/PC/overall_cancer_incidence.xlsx'\n",
    "target_incid=pd.read_excel(INC_TARGET_PATH)\n",
    "target_incid.columns=['age','overall_incid']\n",
    "plt.plot(target_incid['age'].tolist()[:-1], target_incid['overall_incid'][:-1])\n",
    "plt.xticks(rotation='60')\n",
    "plt.show()"
   ]
  },
  {
   "cell_type": "code",
   "execution_count": 10,
   "id": "716bf5f3-e056-4804-9bb3-ab0f25dba1f8",
   "metadata": {},
   "outputs": [
    {
     "data": {
      "image/png": "[encoded data removed]",
      "text/plain": [
       "<Figure size 432x288 with 1 Axes>"
      ]
     },
     "metadata": {
      "needs_background": "light"
     },
     "output_type": "display_data"
    }
   ],
   "source": [
    "INC_TARGET_PATH = '../data/targets/PC/Pancreatic Cancer SEER Rates.xlsx'\n",
    "target_incid_by_stages=pd.read_excel(INC_TARGET_PATH, sheet_name='Incidence by stage')\n",
    "loc = target_incid_by_stages.iloc[7:-4,0:2]\n",
    "loc.columns=['age','loc']\n",
    "reg = target_incid_by_stages.iloc[7:-4, 4:5]\n",
    "reg.columns=['reg']\n",
    "dist = target_incid_by_stages.iloc[7:-4, 7:8]\n",
    "dist.columns = ['dist']\n",
    "\n",
    "by_stages=pd.DataFrame()\n",
    "by_stages = loc.copy(deep=True)\n",
    "by_stages=by_stages.assign(reg=reg['reg'].tolist())\n",
    "by_stages=by_stages.assign(dist=dist['dist'].tolist())\n",
    "by_stages\n",
    "\n",
    "plt.plot(by_stages['age'].tolist(), by_stages['loc'])\n",
    "plt.plot(by_stages['age'].tolist(), by_stages['reg'])\n",
    "plt.plot(by_stages['age'].tolist(), by_stages['dist'])\n",
    "plt.plot(by_stages['age'].tolist(), cal.grouping(target_incid['overall_incid'][:-1]), 'k')\n",
    "\n",
    "plt.legend(['loc','reg','dist','overall'])\n",
    "plt.xticks(rotation='60')\n",
    "plt.show()"
   ]
  },
  {
   "cell_type": "code",
   "execution_count": 11,
   "id": "9dc3b7e1-14b9-4669-9081-a94219814d25",
   "metadata": {},
   "outputs": [
    {
     "data": {
      "image/png": "[encoded data removed]",
      "text/plain": [
       "<Figure size 432x288 with 1 Axes>"
      ]
     },
     "metadata": {
      "needs_background": "light"
     },
     "output_type": "display_data"
    }
   ],
   "source": [
    "INC_TARGET_PATH = '../data/targets/PC/SEER_mortality.xlsx'\n",
    "target_mort=pd.read_excel(INC_TARGET_PATH)\n",
    "target_mort=target_mort.iloc[:,1:]\n",
    "target_mort.columns=['age','overall_mort']\n",
    "plt.plot(target_mort['age'].tolist()[4:-1],target_mort['overall_mort'][4:-1], 'k')\n",
    "plt.legend(['mort'])\n",
    "plt.xticks(rotation='60')\n",
    "plt.show()"
   ]
  },
  {
   "cell_type": "code",
   "execution_count": 12,
   "id": "5d63ff65-dd25-44fa-9f1c-690151f08aac",
   "metadata": {},
   "outputs": [
    {
     "data": {
      "image/png": "[encoded data removed]",
      "text/plain": [
       "<Figure size 432x288 with 1 Axes>"
      ]
     },
     "metadata": {
      "needs_background": "light"
     },
     "output_type": "display_data"
    }
   ],
   "source": [
    "init_incid=pd.read_excel('cancer_incidence_total_pop.xlsx')\n",
    "plt.plot(target_mort['age'].tolist()[4:-1], cal.grouping(init_incid['loc'][0:67]), 'g--')\n",
    "plt.plot(target_mort['age'].tolist()[4:-1], cal.grouping(init_incid['reg'][0:67]), 'r--')\n",
    "plt.plot(target_mort['age'].tolist()[4:-1], cal.grouping(init_incid['dist'][0:67]), 'b--')\n",
    "plt.plot(target_mort['age'].tolist()[4:-1], cal.grouping(init_incid['overall'][0:67]), 'k--')\n",
    "\n",
    "plt.legend(['loc','reg','dist','overall'])\n",
    "plt.title('with initial transition probabilities')\n",
    "plt.xticks(rotation='60')\n",
    "plt.show()"
   ]
  },
  {
   "cell_type": "code",
   "execution_count": 13,
   "id": "3b4cc92c-a649-4d25-b933-d81588bf04d5",
   "metadata": {},
   "outputs": [],
   "source": [
    "# init_mort=pd.read_excel('cancer_mortality_total_pop_init.xlsx')\n",
    "# init_mort.columns=['age','overall_mort']\n",
    "# init_mort['age']=init_mort['age']+18\n",
    "# plt.plot(target_mort['age'][4:-1], c.grouping(init_mort['overall_mort'][0:67]), color='green', linestyle='--')\n",
    "# plt.xticks(rotation=60)\n",
    "# # plt.legend(['sim','target'])\n",
    "# plt.title('Mortality with initial probability transition')\n",
    "# plt.show()"
   ]
  },
  {
   "cell_type": "code",
   "execution_count": 14,
   "id": "000c8b3e-8b72-4431-b252-ea0294989ce0",
   "metadata": {},
   "outputs": [
    {
     "data": {
      "image/png": "[encoded data removed]",
      "text/plain": [
       "<Figure size 432x288 with 1 Axes>"
      ]
     },
     "metadata": {
      "needs_background": "light"
     },
     "output_type": "display_data"
    }
   ],
   "source": [
    "beingsaved = plt.figure()\n",
    "\n",
    "INC_TARGET_PATH = '../data/targets/PC/Pancreatic Cancer SEER Rates.xlsx'\n",
    "target_incid_by_stages=pd.read_excel(INC_TARGET_PATH, sheet_name='Incidence by stage')\n",
    "loc = target_incid_by_stages.iloc[7:-4,0:2]\n",
    "loc.columns=['age','loc']\n",
    "reg = target_incid_by_stages.iloc[7:-4, 4:5]\n",
    "reg.columns=['reg']\n",
    "dist = target_incid_by_stages.iloc[7:-4, 7:8]\n",
    "dist.columns = ['dist']\n",
    "\n",
    "by_stages=pd.DataFrame()\n",
    "by_stages = loc.copy(deep=True)\n",
    "by_stages=by_stages.assign(reg=reg['reg'].tolist())\n",
    "by_stages=by_stages.assign(dist=dist['dist'].tolist())\n",
    "by_stages\n",
    "\n",
    "plt.plot(by_stages['age'].tolist(), by_stages['loc'], 'g-')\n",
    "plt.plot(by_stages['age'].tolist(), by_stages['reg'], 'r-')\n",
    "plt.plot(by_stages['age'].tolist(), by_stages['dist'], 'b-')\n",
    "\n",
    "\n",
    "sim_incid=pd.read_excel('cancer_incidence_total_pop.xlsx')\n",
    "plt.plot(by_stages['age'].tolist(), cal.grouping(sim_incid['loc'][0:67]), 'g--')\n",
    "plt.plot(by_stages['age'].tolist(), cal.grouping(sim_incid['reg'][0:67]), 'r--')\n",
    "plt.plot(by_stages['age'].tolist(), cal.grouping(sim_incid['dist'][0:67]), 'b--')\n",
    "plt.legend(['loc','reg','dist','sim_loc','sim_reg','sim_dist'])\n",
    "\n",
    "# plt.legend(['loc','reg','dist'])\n",
    "plt.xticks(rotation='60')\n",
    "plt.show()"
   ]
  },
  {
   "cell_type": "code",
   "execution_count": 15,
   "id": "0fa9cd4b-e1d4-4614-bee5-5fecbd243e20",
   "metadata": {},
   "outputs": [],
   "source": [
    "# beingsaved.savefig('incid_stage.jpg', format='jpg', dpi=300)"
   ]
  },
  {
   "cell_type": "code",
   "execution_count": 16,
   "id": "64bb1dab-1fe3-4069-a388-cdf5aff5d6e1",
   "metadata": {
    "tags": []
   },
   "outputs": [
    {
     "data": {
      "image/png": "[encoded data removed]",
      "text/plain": [
       "<Figure size 432x288 with 1 Axes>"
      ]
     },
     "metadata": {
      "needs_background": "light"
     },
     "output_type": "display_data"
    }
   ],
   "source": [
    "sim_incid=pd.read_excel('cancer_incidence_total_pop.xlsx')\n",
    "# sim_incid.columns=['age','overall_incid']\n",
    "# sim_incid['age']=sim_incid['age']+18\n",
    "plt.plot(by_stages['age'].tolist(), cal.grouping(sim_incid['overall'][0:67]), 'k--')\n",
    "plt.plot(by_stages['age'].tolist(), cal.grouping(target_incid['overall_incid'][:-1]), 'k')\n",
    "\n",
    "plt.xticks(rotation=60)\n",
    "plt.legend(['sim','target'])\n",
    "plt.title('Calibrated Incidence')\n",
    "plt.show()"
   ]
  },
  {
   "cell_type": "code",
   "execution_count": 17,
   "id": "6840a457-fdcf-40f4-a6c7-b58d649379f6",
   "metadata": {},
   "outputs": [
    {
     "data": {
      "image/png": "[encoded data removed]",
      "text/plain": [
       "<Figure size 432x288 with 1 Axes>"
      ]
     },
     "metadata": {
      "needs_background": "light"
     },
     "output_type": "display_data"
    }
   ],
   "source": [
    "sim_mort=pd.read_excel('cancer_mortality_total_pop.xlsx')\n",
    "plt.plot(target_mort['age'][4:-1], cal.grouping(sim_mort['mort'][0:67]), 'k--')\n",
    "plt.plot(target_mort['age'][4:-1], target_mort['overall_mort'][4:-1], 'k')\n",
    "plt.xticks(rotation=60)\n",
    "plt.legend(['sim','target'])\n",
    "plt.title('Calibrated Mortality')\n",
    "plt.show()"
   ]
  },
  {
   "cell_type": "markdown",
   "id": "0648b408-006b-4bed-8a54-ee792c718234",
   "metadata": {},
   "source": [
    "# Look into state summary"
   ]
  },
  {
   "cell_type": "code",
   "execution_count": 18,
   "id": "4eab7f06-d18f-4ca7-b582-ee0b5594ff89",
   "metadata": {},
   "outputs": [
    {
     "ename": "FileNotFoundError",
     "evalue": "[Errno 2] No such file or directory: 'state_summ_total_pop_ED.xlsx'",
     "output_type": "error",
     "traceback": [
      "\u001b[1;31m---------------------------------------------------------------------------\u001b[0m",
      "\u001b[1;31mFileNotFoundError\u001b[0m                         Traceback (most recent call last)",
      "\u001b[1;32m~\\AppData\\Local\\Temp/ipykernel_29144/1314625271.py\u001b[0m in \u001b[0;36m<module>\u001b[1;34m\u001b[0m\n\u001b[1;32m----> 1\u001b[1;33m \u001b[0mstate_info_ed\u001b[0m \u001b[1;33m=\u001b[0m \u001b[0mpd\u001b[0m\u001b[1;33m.\u001b[0m\u001b[0mread_excel\u001b[0m\u001b[1;33m(\u001b[0m\u001b[1;34m'state_summ_total_pop_ED.xlsx'\u001b[0m\u001b[1;33m)\u001b[0m\u001b[1;33m.\u001b[0m\u001b[0miloc\u001b[0m\u001b[1;33m[\u001b[0m\u001b[1;36m1\u001b[0m\u001b[1;33m:\u001b[0m\u001b[1;33m,\u001b[0m \u001b[1;36m1\u001b[0m\u001b[1;33m:\u001b[0m\u001b[1;33m]\u001b[0m\u001b[1;33m\u001b[0m\u001b[1;33m\u001b[0m\u001b[0m\n\u001b[0m\u001b[0;32m      2\u001b[0m \u001b[0mstate_info_noed\u001b[0m \u001b[1;33m=\u001b[0m \u001b[0mpd\u001b[0m\u001b[1;33m.\u001b[0m\u001b[0mread_excel\u001b[0m\u001b[1;33m(\u001b[0m\u001b[1;34m'state_summ_total_pop_noED.xlsx'\u001b[0m\u001b[1;33m)\u001b[0m\u001b[1;33m.\u001b[0m\u001b[0miloc\u001b[0m\u001b[1;33m[\u001b[0m\u001b[1;36m1\u001b[0m\u001b[1;33m:\u001b[0m\u001b[1;33m,\u001b[0m \u001b[1;36m1\u001b[0m\u001b[1;33m:\u001b[0m\u001b[1;33m]\u001b[0m\u001b[1;33m\u001b[0m\u001b[1;33m\u001b[0m\u001b[0m\n",
      "\u001b[1;32m~\\Anaconda3\\envs\\py39\\lib\\site-packages\\pandas\\util\\_decorators.py\u001b[0m in \u001b[0;36mwrapper\u001b[1;34m(*args, **kwargs)\u001b[0m\n\u001b[0;32m    309\u001b[0m                     \u001b[0mstacklevel\u001b[0m\u001b[1;33m=\u001b[0m\u001b[0mstacklevel\u001b[0m\u001b[1;33m,\u001b[0m\u001b[1;33m\u001b[0m\u001b[1;33m\u001b[0m\u001b[0m\n\u001b[0;32m    310\u001b[0m                 )\n\u001b[1;32m--> 311\u001b[1;33m             \u001b[1;32mreturn\u001b[0m \u001b[0mfunc\u001b[0m\u001b[1;33m(\u001b[0m\u001b[1;33m*\u001b[0m\u001b[0margs\u001b[0m\u001b[1;33m,\u001b[0m \u001b[1;33m**\u001b[0m\u001b[0mkwargs\u001b[0m\u001b[1;33m)\u001b[0m\u001b[1;33m\u001b[0m\u001b[1;33m\u001b[0m\u001b[0m\n\u001b[0m\u001b[0;32m    312\u001b[0m \u001b[1;33m\u001b[0m\u001b[0m\n\u001b[0;32m    313\u001b[0m         \u001b[1;32mreturn\u001b[0m \u001b[0mwrapper\u001b[0m\u001b[1;33m\u001b[0m\u001b[1;33m\u001b[0m\u001b[0m\n",
      "\u001b[1;32m~\\Anaconda3\\envs\\py39\\lib\\site-packages\\pandas\\io\\excel\\_base.py\u001b[0m in \u001b[0;36mread_excel\u001b[1;34m(io, sheet_name, header, names, index_col, usecols, squeeze, dtype, engine, converters, true_values, false_values, skiprows, nrows, na_values, keep_default_na, na_filter, verbose, parse_dates, date_parser, thousands, comment, skipfooter, convert_float, mangle_dupe_cols, storage_options)\u001b[0m\n\u001b[0;32m    362\u001b[0m     \u001b[1;32mif\u001b[0m \u001b[1;32mnot\u001b[0m \u001b[0misinstance\u001b[0m\u001b[1;33m(\u001b[0m\u001b[0mio\u001b[0m\u001b[1;33m,\u001b[0m \u001b[0mExcelFile\u001b[0m\u001b[1;33m)\u001b[0m\u001b[1;33m:\u001b[0m\u001b[1;33m\u001b[0m\u001b[1;33m\u001b[0m\u001b[0m\n\u001b[0;32m    363\u001b[0m         \u001b[0mshould_close\u001b[0m \u001b[1;33m=\u001b[0m \u001b[1;32mTrue\u001b[0m\u001b[1;33m\u001b[0m\u001b[1;33m\u001b[0m\u001b[0m\n\u001b[1;32m--> 364\u001b[1;33m         \u001b[0mio\u001b[0m \u001b[1;33m=\u001b[0m \u001b[0mExcelFile\u001b[0m\u001b[1;33m(\u001b[0m\u001b[0mio\u001b[0m\u001b[1;33m,\u001b[0m \u001b[0mstorage_options\u001b[0m\u001b[1;33m=\u001b[0m\u001b[0mstorage_options\u001b[0m\u001b[1;33m,\u001b[0m \u001b[0mengine\u001b[0m\u001b[1;33m=\u001b[0m\u001b[0mengine\u001b[0m\u001b[1;33m)\u001b[0m\u001b[1;33m\u001b[0m\u001b[1;33m\u001b[0m\u001b[0m\n\u001b[0m\u001b[0;32m    365\u001b[0m     \u001b[1;32melif\u001b[0m \u001b[0mengine\u001b[0m \u001b[1;32mand\u001b[0m \u001b[0mengine\u001b[0m \u001b[1;33m!=\u001b[0m \u001b[0mio\u001b[0m\u001b[1;33m.\u001b[0m\u001b[0mengine\u001b[0m\u001b[1;33m:\u001b[0m\u001b[1;33m\u001b[0m\u001b[1;33m\u001b[0m\u001b[0m\n\u001b[0;32m    366\u001b[0m         raise ValueError(\n",
      "\u001b[1;32m~\\Anaconda3\\envs\\py39\\lib\\site-packages\\pandas\\io\\excel\\_base.py\u001b[0m in \u001b[0;36m__init__\u001b[1;34m(self, path_or_buffer, engine, storage_options)\u001b[0m\n\u001b[0;32m   1189\u001b[0m                 \u001b[0mext\u001b[0m \u001b[1;33m=\u001b[0m \u001b[1;34m\"xls\"\u001b[0m\u001b[1;33m\u001b[0m\u001b[1;33m\u001b[0m\u001b[0m\n\u001b[0;32m   1190\u001b[0m             \u001b[1;32melse\u001b[0m\u001b[1;33m:\u001b[0m\u001b[1;33m\u001b[0m\u001b[1;33m\u001b[0m\u001b[0m\n\u001b[1;32m-> 1191\u001b[1;33m                 ext = inspect_excel_format(\n\u001b[0m\u001b[0;32m   1192\u001b[0m                     \u001b[0mcontent_or_path\u001b[0m\u001b[1;33m=\u001b[0m\u001b[0mpath_or_buffer\u001b[0m\u001b[1;33m,\u001b[0m \u001b[0mstorage_options\u001b[0m\u001b[1;33m=\u001b[0m\u001b[0mstorage_options\u001b[0m\u001b[1;33m\u001b[0m\u001b[1;33m\u001b[0m\u001b[0m\n\u001b[0;32m   1193\u001b[0m                 )\n",
      "\u001b[1;32m~\\Anaconda3\\envs\\py39\\lib\\site-packages\\pandas\\io\\excel\\_base.py\u001b[0m in \u001b[0;36minspect_excel_format\u001b[1;34m(content_or_path, storage_options)\u001b[0m\n\u001b[0;32m   1068\u001b[0m         \u001b[0mcontent_or_path\u001b[0m \u001b[1;33m=\u001b[0m \u001b[0mBytesIO\u001b[0m\u001b[1;33m(\u001b[0m\u001b[0mcontent_or_path\u001b[0m\u001b[1;33m)\u001b[0m\u001b[1;33m\u001b[0m\u001b[1;33m\u001b[0m\u001b[0m\n\u001b[0;32m   1069\u001b[0m \u001b[1;33m\u001b[0m\u001b[0m\n\u001b[1;32m-> 1070\u001b[1;33m     with get_handle(\n\u001b[0m\u001b[0;32m   1071\u001b[0m         \u001b[0mcontent_or_path\u001b[0m\u001b[1;33m,\u001b[0m \u001b[1;34m\"rb\"\u001b[0m\u001b[1;33m,\u001b[0m \u001b[0mstorage_options\u001b[0m\u001b[1;33m=\u001b[0m\u001b[0mstorage_options\u001b[0m\u001b[1;33m,\u001b[0m \u001b[0mis_text\u001b[0m\u001b[1;33m=\u001b[0m\u001b[1;32mFalse\u001b[0m\u001b[1;33m\u001b[0m\u001b[1;33m\u001b[0m\u001b[0m\n\u001b[0;32m   1072\u001b[0m     ) as handle:\n",
      "\u001b[1;32m~\\Anaconda3\\envs\\py39\\lib\\site-packages\\pandas\\io\\common.py\u001b[0m in \u001b[0;36mget_handle\u001b[1;34m(path_or_buf, mode, encoding, compression, memory_map, is_text, errors, storage_options)\u001b[0m\n\u001b[0;32m    709\u001b[0m         \u001b[1;32melse\u001b[0m\u001b[1;33m:\u001b[0m\u001b[1;33m\u001b[0m\u001b[1;33m\u001b[0m\u001b[0m\n\u001b[0;32m    710\u001b[0m             \u001b[1;31m# Binary mode\u001b[0m\u001b[1;33m\u001b[0m\u001b[1;33m\u001b[0m\u001b[1;33m\u001b[0m\u001b[0m\n\u001b[1;32m--> 711\u001b[1;33m             \u001b[0mhandle\u001b[0m \u001b[1;33m=\u001b[0m \u001b[0mopen\u001b[0m\u001b[1;33m(\u001b[0m\u001b[0mhandle\u001b[0m\u001b[1;33m,\u001b[0m \u001b[0mioargs\u001b[0m\u001b[1;33m.\u001b[0m\u001b[0mmode\u001b[0m\u001b[1;33m)\u001b[0m\u001b[1;33m\u001b[0m\u001b[1;33m\u001b[0m\u001b[0m\n\u001b[0m\u001b[0;32m    712\u001b[0m         \u001b[0mhandles\u001b[0m\u001b[1;33m.\u001b[0m\u001b[0mappend\u001b[0m\u001b[1;33m(\u001b[0m\u001b[0mhandle\u001b[0m\u001b[1;33m)\u001b[0m\u001b[1;33m\u001b[0m\u001b[1;33m\u001b[0m\u001b[0m\n\u001b[0;32m    713\u001b[0m \u001b[1;33m\u001b[0m\u001b[0m\n",
      "\u001b[1;31mFileNotFoundError\u001b[0m: [Errno 2] No such file or directory: 'state_summ_total_pop_ED.xlsx'"
     ]
    }
   ],
   "source": [
    "state_info_ed = pd.read_excel('state_summ_total_pop_ED.xlsx').iloc[1:, 1:]\n",
    "state_info_noed = pd.read_excel('state_summ_total_pop_noED.xlsx').iloc[1:, 1:]"
   ]
  },
  {
   "cell_type": "code",
   "execution_count": null,
   "id": "250fd7cd-19a1-4295-beeb-6858fd6413ae",
   "metadata": {},
   "outputs": [],
   "source": [
    "x=list(range(18, 100))"
   ]
  },
  {
   "cell_type": "code",
   "execution_count": 19,
   "id": "3d1353be-83a2-44f3-a700-829dd76812c1",
   "metadata": {},
   "outputs": [
    {
     "ename": "NameError",
     "evalue": "name 'state_info_ed' is not defined",
     "output_type": "error",
     "traceback": [
      "\u001b[1;31m---------------------------------------------------------------------------\u001b[0m",
      "\u001b[1;31mNameError\u001b[0m                                 Traceback (most recent call last)",
      "\u001b[1;32m~\\AppData\\Local\\Temp/ipykernel_29144/438305977.py\u001b[0m in \u001b[0;36m<module>\u001b[1;34m\u001b[0m\n\u001b[0;32m      2\u001b[0m \u001b[0mstate\u001b[0m\u001b[1;33m=\u001b[0m\u001b[1;34m'SURG'\u001b[0m\u001b[1;33m\u001b[0m\u001b[1;33m\u001b[0m\u001b[0m\n\u001b[0;32m      3\u001b[0m \u001b[1;32mfor\u001b[0m \u001b[0mi\u001b[0m \u001b[1;32min\u001b[0m \u001b[0mrange\u001b[0m\u001b[1;33m(\u001b[0m\u001b[1;36m13\u001b[0m\u001b[1;33m,\u001b[0m \u001b[1;36m83\u001b[0m\u001b[1;33m*\u001b[0m\u001b[1;36m12\u001b[0m\u001b[1;33m,\u001b[0m \u001b[1;36m12\u001b[0m\u001b[1;33m)\u001b[0m\u001b[1;33m:\u001b[0m\u001b[1;33m\u001b[0m\u001b[1;33m\u001b[0m\u001b[0m\n\u001b[1;32m----> 4\u001b[1;33m     \u001b[0med\u001b[0m\u001b[1;33m.\u001b[0m\u001b[0mappend\u001b[0m\u001b[1;33m(\u001b[0m\u001b[0mstate_info_ed\u001b[0m\u001b[1;33m[\u001b[0m\u001b[0mstate\u001b[0m\u001b[1;33m]\u001b[0m\u001b[1;33m[\u001b[0m\u001b[0mi\u001b[0m\u001b[1;33m]\u001b[0m\u001b[1;33m)\u001b[0m\u001b[1;33m\u001b[0m\u001b[1;33m\u001b[0m\u001b[0m\n\u001b[0m\u001b[0;32m      5\u001b[0m     \u001b[0mnoed\u001b[0m\u001b[1;33m.\u001b[0m\u001b[0mappend\u001b[0m\u001b[1;33m(\u001b[0m\u001b[0mstate_info_noed\u001b[0m\u001b[1;33m[\u001b[0m\u001b[0mstate\u001b[0m\u001b[1;33m]\u001b[0m\u001b[1;33m[\u001b[0m\u001b[0mi\u001b[0m\u001b[1;33m]\u001b[0m\u001b[1;33m)\u001b[0m\u001b[1;33m\u001b[0m\u001b[1;33m\u001b[0m\u001b[0m\n\u001b[0;32m      6\u001b[0m \u001b[0mplt\u001b[0m\u001b[1;33m.\u001b[0m\u001b[0mplot\u001b[0m\u001b[1;33m(\u001b[0m\u001b[0mx\u001b[0m\u001b[1;33m,\u001b[0m \u001b[0med\u001b[0m\u001b[1;33m)\u001b[0m\u001b[1;33m\u001b[0m\u001b[1;33m\u001b[0m\u001b[0m\n",
      "\u001b[1;31mNameError\u001b[0m: name 'state_info_ed' is not defined"
     ]
    }
   ],
   "source": [
    "ed, noed = [], []\n",
    "state='SURG'\n",
    "for i in range(13, 83*12, 12):\n",
    "    ed.append(state_info_ed[state][i])\n",
    "    noed.append(state_info_noed[state][i])\n",
    "plt.plot(x, ed)\n",
    "plt.plot(x, noed)\n",
    "\n",
    "plt.legend(['ed', 'noed'], bbox_to_anchor=(1, 1))\n",
    "plt.title(state)"
   ]
  },
  {
   "cell_type": "code",
   "execution_count": 21,
   "id": "6eec14b4-41ca-471a-b77d-854c52235dda",
   "metadata": {},
   "outputs": [
    {
     "data": {
      "text/plain": [
       "<matplotlib.legend.Legend at 0x2553995ee20>"
      ]
     },
     "execution_count": 21,
     "metadata": {},
     "output_type": "execute_result"
    },
    {
     "data": {
      "image/png": "[encoded data removed]",
      "text/plain": [
       "<Figure size 432x288 with 1 Axes>"
      ]
     },
     "metadata": {
      "needs_background": "light"
     },
     "output_type": "display_data"
    }
   ],
   "source": [
    "for state in state_info_ed.columns:\n",
    "    pop=[]\n",
    "    for i in range(13, 83*12, 12):\n",
    "        pop.append(state_info_ed[state][i])\n",
    "    plt.plot(x, pop)\n",
    "    \n",
    "plt.legend(state_info_ed.columns, bbox_to_anchor=(1, 1))"
   ]
  },
  {
   "cell_type": "code",
   "execution_count": 22,
   "id": "30cae8d2-d456-4082-bc13-fac817153f64",
   "metadata": {},
   "outputs": [
    {
     "data": {
      "text/plain": [
       "<matplotlib.legend.Legend at 0x25539bdfd00>"
      ]
     },
     "execution_count": 22,
     "metadata": {},
     "output_type": "execute_result"
    },
    {
     "data": {
      "image/png": "[encoded data removed]",
      "text/plain": [
       "<Figure size 432x288 with 1 Axes>"
      ]
     },
     "metadata": {
      "needs_background": "light"
     },
     "output_type": "display_data"
    }
   ],
   "source": [
    "for state in state_info_noed.columns:\n",
    "    pop=[]\n",
    "    for i in range(13, 83*12, 12):\n",
    "        pop.append(state_info_noed[state][i])\n",
    "    plt.plot(x, pop)\n",
    "    \n",
    "plt.legend(state_info_noed.columns, bbox_to_anchor=(1, 1))"
   ]
  },
  {
   "cell_type": "code",
   "execution_count": 12,
   "id": "87616dad-5e7c-4fba-b52c-5c83297e9314",
   "metadata": {},
   "outputs": [],
   "source": [
    "def gof(obs, exp):\n",
    "    # chi-squared\n",
    "    # inputs: numpy arrays of observed and expected values\n",
    "    chi = ((obs-exp)**2)\n",
    "    chi_sq = sum(chi)\n",
    "    return chi_sq.sum()\n",
    "\n",
    "def grouping(deaths):\n",
    "    '''Convert cancer mortality rate by each age into age groups\n",
    "       15-19, 20-24, 25-34, 35-44, 45-54, 55-64, 65-74, 75-84\n",
    "       Input is a numpy array'''\n",
    "    # For SEER mortality\n",
    "    lst = []\n",
    "    # Group 18-19 as 15-19\n",
    "    lst.append(deaths[0:2].mean())\n",
    "    # Group 20-24\n",
    "    lst.append(deaths[2:7].mean())\n",
    "    # Group 25-29\n",
    "    lst.append(deaths[7:12].mean())    \n",
    "    # Group 30-34\n",
    "    lst.append(deaths[12:17].mean())\n",
    "    # Group 35-39\n",
    "    lst.append(deaths[17:22].mean())\n",
    "    # Group 40-44\n",
    "    lst.append(deaths[22:27].mean())\n",
    "    # Group 45-49\n",
    "    lst.append(deaths[27:32].mean())   \n",
    "    # Group 50-54\n",
    "    lst.append(deaths[32:37].mean())\n",
    "    # Group 55-59\n",
    "    lst.append(deaths[37:42].mean())\n",
    "    # Group 60-64\n",
    "    lst.append(deaths[42:47].mean())\n",
    "    # Group 65-69\n",
    "    lst.append(deaths[47:52].mean())\n",
    "    # Group 70-74\n",
    "    lst.append(deaths[52:57].mean())\n",
    "    # Group 75-79\n",
    "    lst.append(deaths[57:62].mean())\n",
    "    # Group 80-84\n",
    "    lst.append(deaths[62:67].mean())\n",
    "\n",
    "    # Convert list into numpy array\n",
    "    newArr = np.array(lst)\n",
    "    return newArr"
   ]
  },
  {
   "cell_type": "code",
   "execution_count": 12,
   "id": "750df929-4204-438d-89b1-460629ac8610",
   "metadata": {},
   "outputs": [],
   "source": [
    "# Load target data\n",
    "target_incid = pd.read_excel('../data/targets/PC/overall_cancer_incidence.xlsx')#, sheet_name=c.POPULATION) # age 18 - 85\n",
    "target_mort = pd.read_excel('../data/targets/PC/SEER_mortality.xlsx')#, sheet_name=c.POPULATION) # age groups\n",
    "# Drop 1st column\n",
    "target_incid = target_incid.iloc[:,1:]\n",
    "target_mort = target_mort.iloc[:,1:]\n",
    "\n",
    "# Drop age 85+ and Drop age groups < 1 year, 1-4 years, 5-9 years, 10-14 years\n",
    "target_incid = target_incid.iloc[:-1]\n",
    "target_mort = target_mort.iloc[4:-1]\n",
    "\n",
    "# Convert to numpy array\n",
    "target_incid = np.array(target_incid['overall_incid'].tolist())\n",
    "target_mort = np.array(target_mort['Rate'].tolist())"
   ]
  },
  {
   "cell_type": "code",
   "execution_count": 13,
   "id": "5182c332-75ed-424e-929e-244b08b3d5fe",
   "metadata": {},
   "outputs": [],
   "source": [
    "cancer_incidence=pd.read_excel('cancer_incidence_total_pop.xlsx')['incid'][0:67]\n",
    "cancer_mort=pd.read_excel('cancer_mortality_total_pop.xlsx')['mort'][0:67]"
   ]
  },
  {
   "cell_type": "code",
   "execution_count": 14,
   "id": "e28e8d32-ca6b-46f2-b550-c1291ba3402d",
   "metadata": {},
   "outputs": [],
   "source": [
    "new_cancer_mort = grouping(cancer_mort)"
   ]
  },
  {
   "cell_type": "code",
   "execution_count": 15,
   "id": "259c7fbf-4682-4477-a789-ec4cc5ccdc95",
   "metadata": {},
   "outputs": [
    {
     "name": "stdout",
     "output_type": "stream",
     "text": [
      "3043.8026301952455\n",
      "1050.06239710844\n"
     ]
    }
   ],
   "source": [
    "incid_gof = gof(np.array(cancer_incidence), np.array(target_incid))\n",
    "mort_gof = gof(np.array(new_cancer_mort), np.array(target_mort))\n",
    "print(incid_gof)\n",
    "print(mort_gof)"
   ]
  },
  {
   "cell_type": "markdown",
   "id": "1f8023d9-7a22-40bf-99c1-7dd99c98aa61",
   "metadata": {},
   "source": [
    "# Early detection"
   ]
  },
  {
   "cell_type": "code",
   "execution_count": 10,
   "id": "329a058c-b8ee-42b7-8e5f-0c393fddfa47",
   "metadata": {},
   "outputs": [],
   "source": [
    "import main\n",
    "import calibration as c\n",
    "\n",
    "from timeit import default_timer as timer\n",
    "\n",
    "from datetime import timedelta\n",
    "from datetime import datetime\n",
    "\n",
    "import pandas as pd\n",
    "import matplotlib.pyplot as plt\n",
    "import numpy as np\n",
    "\n",
    "from tqdm import tqdm"
   ]
  },
  {
   "cell_type": "code",
   "execution_count": 11,
   "id": "13564f4b-5d5b-48ba-8bdb-3737b740a2d3",
   "metadata": {},
   "outputs": [
    {
     "name": "stderr",
     "output_type": "stream",
     "text": [
      "100%|██████████████████████████████████████████████████████████████████████████████████| 10/10 [00:04<00:00,  2.41it/s]\n"
     ]
    }
   ],
   "source": [
    "years_gained=[]\n",
    "for nfold in tqdm(range(1,11,1)):\n",
    "    main.run_model(nfold)\n",
    "    dat = pd.read_excel('state_summ_total_pop.xlsx', index_col = 0) .iloc[1:,:]\n",
    "    if nfold==1:\n",
    "        ref_point=dat.loc[:,'NORM':'DDIST'].sum(axis=1).sum()/12\n",
    "    years_gained.append(dat.loc[:,'NORM':'DDIST'].sum(axis=1).sum()/12-ref_point)"
   ]
  },
  {
   "cell_type": "code",
   "execution_count": 12,
   "id": "a85c7c3b-5eb9-4587-9b72-c3b26b1d9311",
   "metadata": {},
   "outputs": [
    {
     "data": {
      "text/plain": [
       "[<matplotlib.lines.Line2D at 0x2493eb70580>]"
      ]
     },
     "execution_count": 12,
     "metadata": {},
     "output_type": "execute_result"
    },
    {
     "data": {
      "image/png": "[encoded data removed]",
      "text/plain": [
       "<Figure size 432x288 with 1 Axes>"
      ]
     },
     "metadata": {
      "needs_background": "light"
     },
     "output_type": "display_data"
    }
   ],
   "source": [
    "plt.plot(range(1,11,1), years_gained)"
   ]
  },
  {
   "cell_type": "code",
   "execution_count": null,
   "id": "23c6146f-da1b-4c59-9aaf-04ec5afae5db",
   "metadata": {},
   "outputs": [],
   "source": []
  }
 ],
 "metadata": {
  "kernelspec": {
   "display_name": "py39",
   "language": "python",
   "name": "py39"
  },
  "language_info": {
   "codemirror_mode": {
    "name": "ipython",
    "version": 3
   },
   "file_extension": ".py",
   "mimetype": "text/x-python",
   "name": "python",
   "nbconvert_exporter": "python",
   "pygments_lexer": "ipython3",
   "version": "3.9.0"
  }
 },
 "nbformat": 4,
 "nbformat_minor": 5
}
