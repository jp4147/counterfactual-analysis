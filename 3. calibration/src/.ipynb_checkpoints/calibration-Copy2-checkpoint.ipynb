{
 "cells": [
  {
   "cell_type": "code",
   "execution_count": 1,
   "id": "05cccdb0-d877-49f4-a2d2-b74aae4ce06f",
   "metadata": {},
   "outputs": [],
   "source": [
    "import configs as c\n",
    "\n",
    "from timeit import default_timer as timer\n",
    "\n",
    "from datetime import timedelta\n",
    "from datetime import datetime\n",
    "\n",
    "import pandas as pd\n",
    "import matplotlib.pyplot as plt\n",
    "import numpy as np\n",
    "import pickle"
   ]
  },
  {
   "cell_type": "markdown",
   "id": "3e951071-0700-4314-a034-edebe8380583",
   "metadata": {},
   "source": [
    "# Calibration"
   ]
  },
  {
   "cell_type": "code",
   "execution_count": 2,
   "id": "c96abac5-abb5-4be8-a541-322a6d383e1b",
   "metadata": {},
   "outputs": [],
   "source": [
    "from calibration import sim_anneal\n",
    "import configs as c\n",
    "\n",
    "from timeit import default_timer as timer\n",
    "\n",
    "from datetime import timedelta\n",
    "from datetime import datetime\n",
    "\n",
    "import pandas as pd\n",
    "import matplotlib.pyplot as plt\n",
    "import numpy as np\n",
    "import pickle"
   ]
  },
  {
   "cell_type": "code",
   "execution_count": null,
   "id": "bc852889-c0c6-45ad-b527-3bc74318177d",
   "metadata": {},
   "outputs": [
    {
     "name": "stderr",
     "output_type": "stream",
     "text": [
      "100%|██████████████████████████████████████████████████████████████████████████████████| 67/67 [00:09<00:00,  7.32it/s]\n",
      "100%|██████████████████████████████████████████████████████████████████████████████████| 67/67 [00:09<00:00,  7.27it/s]\n",
      " 61%|██████████████████████████████████████████████████▏                               | 41/67 [00:03<00:03,  7.04it/s]"
     ]
    }
   ],
   "source": [
    "start = timer()\n",
    "cal_markov = sim_anneal(tp_path = 'var_sojourn16_dm.pickle', age_var = 1, model = 'mk_dm', save = 'var_sojourn16_dm2nd.pickle')\n",
    "cal_tp = cal_markov.anneal()\n",
    "end = timer()\n",
    "print(f'total time: {timedelta(seconds=end-start)}')"
   ]
  },
  {
   "cell_type": "code",
   "execution_count": null,
   "id": "df53b965-b50c-4bcb-8954-8aaf90fd773e",
   "metadata": {},
   "outputs": [],
   "source": [
    "# with open('steady2nd_final.pickle', 'wb') as handle:\n",
    "#     pickle.dump(cal_tp, handle, protocol=pickle.HIGHEST_PROTOCOL)"
   ]
  },
  {
   "cell_type": "code",
   "execution_count": null,
   "id": "29ef4d1b-ffc4-47f1-b36b-c145d6409d0f",
   "metadata": {},
   "outputs": [],
   "source": []
  }
 ],
 "metadata": {
  "kernelspec": {
   "display_name": "py39",
   "language": "python",
   "name": "py39"
  },
  "language_info": {
   "codemirror_mode": {
    "name": "ipython",
    "version": 3
   },
   "file_extension": ".py",
   "mimetype": "text/x-python",
   "name": "python",
   "nbconvert_exporter": "python",
   "pygments_lexer": "ipython3",
   "version": "3.9.0"
  }
 },
 "nbformat": 4,
 "nbformat_minor": 5
}
