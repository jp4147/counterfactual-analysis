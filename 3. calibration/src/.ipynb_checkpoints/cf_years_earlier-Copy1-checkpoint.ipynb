{
 "cells": [
  {
   "cell_type": "code",
   "execution_count": 1,
   "id": "05cccdb0-d877-49f4-a2d2-b74aae4ce06f",
   "metadata": {},
   "outputs": [],
   "source": [
    "import configs as c\n",
    "\n",
    "from timeit import default_timer as timer\n",
    "\n",
    "from datetime import timedelta\n",
    "from datetime import datetime\n",
    "\n",
    "import pandas as pd\n",
    "import matplotlib.pyplot as plt\n",
    "import numpy as np\n",
    "import pickle\n",
    "from tqdm import tqdm\n",
    "import copy"
   ]
  },
  {
   "cell_type": "code",
   "execution_count": 2,
   "id": "098d5b3e-5e98-4e84-a42d-40aa17f2efbd",
   "metadata": {},
   "outputs": [],
   "source": [
    "from model import microsim, counterfactual\n",
    "import transition_matrix as tm\n",
    "import model_functions as mf"
   ]
  },
  {
   "cell_type": "code",
   "execution_count": 3,
   "id": "6ebc07ef-4f4c-460f-8436-4ee401c233b5",
   "metadata": {},
   "outputs": [],
   "source": [
    "with open('var_sojourn17.pickle', 'rb') as handle:\n",
    "    tp = pickle.load(handle)\n",
    "tmx = tm.set_transition_matrix(tp)"
   ]
  },
  {
   "cell_type": "code",
   "execution_count": 4,
   "id": "6eb3102a-4186-444e-990b-869565337813",
   "metadata": {},
   "outputs": [
    {
     "name": "stderr",
     "output_type": "stream",
     "text": [
      "100%|████████████████████████████████████████████████████████████████████████████████████| 5/5 [02:01<00:00, 24.25s/it]\n"
     ]
    }
   ],
   "source": [
    "folder17 = 'var_sojourn17'\n",
    "ind_state17 = []\n",
    "for i in tqdm(range(5)):\n",
    "    ind_state17 = ind_state17 + pd.read_pickle(folder17+'/ind_state'+str(i+1)+'.pickle')"
   ]
  },
  {
   "cell_type": "code",
   "execution_count": 12,
   "id": "d5c0fea0-8f18-4f92-90cf-1610241bc860",
   "metadata": {},
   "outputs": [
    {
     "name": "stderr",
     "output_type": "stream",
     "text": [
      "100%|███████████████████████████████████████████████████████████████████████| 100000/100000 [00:08<00:00, 11393.39it/s]\n",
      "100%|███████████████████████████████████████████████████████████████████████| 100000/100000 [00:01<00:00, 59947.82it/s]\n"
     ]
    }
   ],
   "source": [
    "m0 = counterfactual(ind_state17, tmx)\n",
    "cohort = m0.cohort(included_state = ['DT1','DT2','DT3','DT4'], diedBy = ['PCMORT'])"
   ]
  },
  {
   "cell_type": "code",
   "execution_count": 35,
   "id": "4ce8fc79-2bca-4795-9759-cb5b973e63ab",
   "metadata": {},
   "outputs": [
    {
     "name": "stderr",
     "output_type": "stream",
     "text": [
      "100%|████████████████████████████████████████████████████████████████████████████| 1015/1015 [00:00<00:00, 3011.64it/s]\n",
      "100%|█████████████████████████████████████████████████████████████████████████████| 1013/1013 [00:06<00:00, 159.26it/s]\n"
     ]
    }
   ],
   "source": [
    "no_cf = cohort[0]\n",
    "selected_cohort = cohort[1]\n",
    "not_eligible, cf_before = [],[]\n",
    "months_earlier = 1\n",
    "states = c.states\n",
    "state_names = c.state_names\n",
    "for test in tqdm(selected_cohort):\n",
    "    detected_month = [test.index(s) for s in test if s.startswith('D')][0]\n",
    "    early_detection = detected_month-months_earlier\n",
    "    state_history = test[0:early_detection]\n",
    "    if state_history[-1] != 'NORM':\n",
    "        cf_before.append(test)\n",
    "    else:\n",
    "        not_eligible.append(test)\n",
    "\n",
    "cf_after = []\n",
    "for test in tqdm(cf_before):\n",
    "    \n",
    "    # test = cf_before[0]\n",
    "    tm_copy1 = copy.deepcopy(tmx)\n",
    "    tm_copy2 = copy.deepcopy(tmx)\n",
    "    detected_month = [test.index(s) for s in test if s.startswith('D')][0]\n",
    "    early_detection = detected_month-months_earlier\n",
    "    state_history = test[0:early_detection]\n",
    "\n",
    "    stage = state_history[-1][-1]\n",
    "    state_history.append('DT'+ stage)\n",
    "    curr_state = state_history[-1]\n",
    "    for t in range(len(state_history), len(c.age_range)*12+1):\n",
    "        age = mf.ageATtime(t)\n",
    "        if t < detected_month:\n",
    "            tm_copy1[age][states['DT'+stage],states['DT'+stage]] = tm_copy1[age][states['DT'+stage],states['DT'+stage]] + tm_copy1[age][states['DT'+stage],states['PCMORT']] + tm_copy1[age][states['DT'+stage],states['ACMORT']]\n",
    "            tm_copy1[age][states['DT'+stage],states['PCMORT']] = 0\n",
    "            tm_copy1[age][states['DT'+stage],states['ACMORT']] = 0\n",
    "            curr_state = np.random.choice(state_names,replace=True,p=tm_copy1[age][states[curr_state]])\n",
    "        else:\n",
    "            curr_state = np.random.choice(state_names,replace=True,p=tm_copy2[age][states[curr_state]])\n",
    "\n",
    "        state_history.append(curr_state)\n",
    "\n",
    "    cf_after.append(state_history)"
   ]
  },
  {
   "cell_type": "code",
   "execution_count": 147,
   "id": "f0d31288-5db6-40c4-967a-485b42e591f5",
   "metadata": {},
   "outputs": [
    {
     "data": {
      "text/plain": [
       "590"
      ]
     },
     "execution_count": 147,
     "metadata": {},
     "output_type": "execute_result"
    }
   ],
   "source": [
    "len(cf_after)"
   ]
  },
  {
   "cell_type": "markdown",
   "id": "ebcb3bb7-66a4-4a1b-b15f-698a947bc81e",
   "metadata": {
    "tags": []
   },
   "source": [
    "### counter factual results"
   ]
  },
  {
   "cell_type": "markdown",
   "id": "7222647a-eb15-4552-9b7d-188ea5e06cd3",
   "metadata": {
    "tags": []
   },
   "source": [
    "##### how many people died with ACMORT after counterfactual?"
   ]
  },
  {
   "cell_type": "code",
   "execution_count": 30,
   "id": "81dc7c17-3546-4740-ab3c-30b60fc56f0c",
   "metadata": {},
   "outputs": [],
   "source": [
    "count = 0\n",
    "for h in cf_after:\n",
    "    if h[-1] == 'ACMORT':\n",
    "        count+=1"
   ]
  },
  {
   "cell_type": "code",
   "execution_count": 31,
   "id": "8521a25a-4e59-4f46-a2af-e6261a924ffb",
   "metadata": {},
   "outputs": [
    {
     "name": "stdout",
     "output_type": "stream",
     "text": [
      "35\n",
      "742\n",
      "0.04716981132075472\n"
     ]
    }
   ],
   "source": [
    "print(count)\n",
    "print(len(cf_after))\n",
    "print(count/len(cf_after))"
   ]
  },
  {
   "cell_type": "markdown",
   "id": "d8b64ca8-34b0-4f03-bdfa-b7850f321ac5",
   "metadata": {
    "tags": []
   },
   "source": [
    "##### how many people not died until age 85?"
   ]
  },
  {
   "cell_type": "code",
   "execution_count": 32,
   "id": "d06cc5cc-38a8-4f1c-88a4-5fa81ca7eb2e",
   "metadata": {},
   "outputs": [
    {
     "name": "stdout",
     "output_type": "stream",
     "text": [
      "17\n"
     ]
    }
   ],
   "source": [
    "count = 0\n",
    "for h in cf_after:\n",
    "    if h[-1] not in ['PCMORT','ACMORT']:\n",
    "        count+=1\n",
    "print(count)"
   ]
  },
  {
   "cell_type": "markdown",
   "id": "96b16696-bf39-4ce3-af09-91b25c0f73ec",
   "metadata": {
    "tags": []
   },
   "source": [
    "##### calculate survival years (years since detected)"
   ]
  },
  {
   "cell_type": "code",
   "execution_count": 36,
   "id": "838f6888-f9e8-43ce-8cc4-46bfc0f0c5b1",
   "metadata": {},
   "outputs": [],
   "source": [
    "def cal_survival_lengths(test):\n",
    "    months_survived, years_survived = [], []\n",
    "    for h in test:\n",
    "        d_duration = []\n",
    "        for i in range(len(h)):\n",
    "            if h[i][0] == 'D':\n",
    "                d_duration.append(i)\n",
    "        # print(mf.ageATtime(d_duration[0]))\n",
    "        if h[-1] == 'PCMORT':\n",
    "            diedage = mf.ageATtime(h.index('PCMORT'))\n",
    "            index = h.index('PCMORT')\n",
    "            # print('PCMORT at '+ str(mf.ageATtime(index)))\n",
    "        elif h[-1] == 'ACMORT':\n",
    "            diedage = mf.ageATtime(h.index('ACMORT'))\n",
    "            index = h.index('ACMORT')\n",
    "            # print('ACMORT at '+ str(mf.ageATtime(index)))\n",
    "        else:\n",
    "            diedage = 85\n",
    "            index = len(h)\n",
    "        years_survived.append(diedage - mf.ageATtime(d_duration[0]))\n",
    "        # print('years_survived = ' + str(years_survived))\n",
    "        # print('months_survived = ' + str(index - i))\n",
    "        months_survived.append(index-d_duration[0])\n",
    "    \n",
    "    return months_survived, years_survived"
   ]
  },
  {
   "cell_type": "code",
   "execution_count": 37,
   "id": "c3af519a-66e1-48fe-a5dc-266b3a4be365",
   "metadata": {},
   "outputs": [],
   "source": [
    "def cal_survival_lengths_ind(h):\n",
    "    d_duration = []\n",
    "    for i in range(len(h)):\n",
    "        if h[i][0] == 'D':\n",
    "            d_duration.append(i)\n",
    "    print(h[d_duration[0]] +' at ' + str(mf.ageATtime(d_duration[0])))\n",
    "    if h[-1] == 'PCMORT':\n",
    "        diedage = mf.ageATtime(h.index('PCMORT'))\n",
    "        index = h.index('PCMORT')\n",
    "        print('PCMORT at '+ str(mf.ageATtime(index)))\n",
    "    elif h[-1] == 'ACMORT':\n",
    "        diedage = mf.ageATtime(h.index('ACMORT'))\n",
    "        index = h.index('ACMORT')\n",
    "        print('ACMORT at '+ str(mf.ageATtime(index)))\n",
    "    else:\n",
    "        diedage = 85\n",
    "        index = len(h)\n",
    "    print('years_survived = ' + str(diedage - mf.ageATtime(d_duration[0])))\n",
    "    print('months_survived = ' + str(index - d_duration[0]))\n",
    "    # print('months_survived = ' + str(index - i))"
   ]
  },
  {
   "cell_type": "code",
   "execution_count": 38,
   "id": "5a8dc76b-4b1d-4b24-a060-b16852ecab14",
   "metadata": {},
   "outputs": [],
   "source": [
    "mb, yb = cal_survival_lengths(cf_before)\n",
    "ma, ya = cal_survival_lengths(cf_after)"
   ]
  },
  {
   "cell_type": "code",
   "execution_count": 191,
   "id": "668c7a1a-ec07-49d8-b939-466a7142864c",
   "metadata": {},
   "outputs": [
    {
     "name": "stdout",
     "output_type": "stream",
     "text": [
      "total years survived\n",
      "1269.5\n",
      "1894.4166666666667\n",
      "mean years survived\n",
      "1.7109164420485174\n",
      "2.5531221922731357\n"
     ]
    }
   ],
   "source": [
    "print('total years survived')\n",
    "print(sum(mb)/12)\n",
    "print(sum(ma)/12)\n",
    "print('mean years survived')\n",
    "print(np.mean([i/12 for i in mb]))\n",
    "print(np.mean([i/12 for i in ma]))"
   ]
  },
  {
   "cell_type": "code",
   "execution_count": 39,
   "id": "02adcd16-18c9-42a6-8173-b525f00a8a82",
   "metadata": {},
   "outputs": [
    {
     "data": {
      "image/png": "[encoded data removed]",
      "text/plain": [
       "<Figure size 432x288 with 1 Axes>"
      ]
     },
     "metadata": {
      "needs_background": "light"
     },
     "output_type": "display_data"
    }
   ],
   "source": [
    "plt.hist([i/12 for i in mb], bins=50, color = 'gray', density = True)\n",
    "plt.hist([i/12 for i in ma], bins=50, color = 'r', alpha = 0.3, density = True)\n",
    "plt.legend(['Real world', 'Counterfactual'], fontsize = 12)\n",
    "\n",
    "plt.xlabel('years_survived', fontsize = 15)\n",
    "plt.ylabel('number of patients', fontsize = 15)\n",
    "plt.show()"
   ]
  },
  {
   "cell_type": "markdown",
   "id": "b8c90fa9-5638-4910-acec-0d8b0d1e9fb7",
   "metadata": {
    "tags": []
   },
   "source": [
    "##### how many are involved in lead time bias"
   ]
  },
  {
   "cell_type": "code",
   "execution_count": 40,
   "id": "f53b4f0b-4e14-4899-9a95-b600ae4ad648",
   "metadata": {},
   "outputs": [],
   "source": [
    "leadT_bias = []\n",
    "for i in range(len(cf_before)):\n",
    "    idx_before = cf_before[i].index('PCMORT')\n",
    "    diedage_before = mf.ageATtime(idx_before)\n",
    "    if cf_after[i][-1] == 'PCMORT':\n",
    "        idx_after = cf_after[i].index('PCMORT')\n",
    "        diedage_after = mf.ageATtime(idx_after)\n",
    "    elif cf_after[i][-1] == 'ACMORT':\n",
    "        idx_after = cf_after[i].index('ACMORT')\n",
    "        diedage_after = mf.ageATtime(idx_after)\n",
    "    else:\n",
    "        diedage = 85\n",
    "        idx_after = len(cf_after)\n",
    "    if idx_after <= idx_before:\n",
    "        leadT_bias.append(i)"
   ]
  },
  {
   "cell_type": "code",
   "execution_count": 41,
   "id": "055bc9f8-082e-442f-ad0f-c1e38c8da567",
   "metadata": {},
   "outputs": [
    {
     "data": {
      "text/plain": [
       "481"
      ]
     },
     "execution_count": 41,
     "metadata": {},
     "output_type": "execute_result"
    }
   ],
   "source": [
    "len(leadT_bias)"
   ]
  },
  {
   "cell_type": "code",
   "execution_count": 42,
   "id": "1cb18e3d-a1f6-443d-bef4-25fe49435d43",
   "metadata": {},
   "outputs": [],
   "source": [
    "months_gained1, months_gained2 = [], []\n",
    "check=[]\n",
    "for i in range(len(cf_before)):\n",
    "    idx_before = cf_before[i].index('PCMORT')\n",
    "    diedage_before = mf.ageATtime(idx_before)\n",
    "    if cf_after[i][-1] == 'PCMORT':\n",
    "        idx_after = cf_after[i].index('PCMORT')\n",
    "        diedage_after = mf.ageATtime(idx_after)\n",
    "    elif cf_after[i][-1] == 'ACMORT':\n",
    "        idx_after = cf_after[i].index('ACMORT')\n",
    "        diedage_after = mf.ageATtime(idx_after)\n",
    "    else:\n",
    "        diedage = 85\n",
    "        idx_after = len(cf_after)\n",
    "    if i in leadT_bias:\n",
    "        months_gained1.append(idx_after - idx_before)\n",
    "        # if idx_after - idx_before < -120:\n",
    "        #     check.append(i)\n",
    "        # if cf_after[i][-1] == 'ACMORT':\n",
    "        #     check.append(i)\n",
    "    else:\n",
    "        months_gained2.append(idx_after - idx_before)\n",
    "        if idx_after - idx_before > 30*12:\n",
    "            check.append(i)"
   ]
  },
  {
   "cell_type": "code",
   "execution_count": 43,
   "id": "d9b98c15-81a5-47b1-b2eb-436c7e509c88",
   "metadata": {},
   "outputs": [
    {
     "data": {
      "text/plain": [
       "0"
      ]
     },
     "execution_count": 43,
     "metadata": {},
     "output_type": "execute_result"
    }
   ],
   "source": [
    "len(check)"
   ]
  },
  {
   "cell_type": "code",
   "execution_count": 44,
   "id": "b7b432aa-14fe-40e7-8e20-59db5c111268",
   "metadata": {},
   "outputs": [],
   "source": [
    "i=0"
   ]
  },
  {
   "cell_type": "code",
   "execution_count": 45,
   "id": "94a8f943-51ad-4371-adeb-c45e30703f70",
   "metadata": {},
   "outputs": [
    {
     "data": {
      "image/png": "[encoded data removed]",
      "text/plain": [
       "<Figure size 432x288 with 1 Axes>"
      ]
     },
     "metadata": {
      "needs_background": "light"
     },
     "output_type": "display_data"
    }
   ],
   "source": [
    "years_gained = np.array(months_gained1 + months_gained2)/12\n",
    "plt.plot(years_gained)\n",
    "plt.ylabel('years gained', fontsize = 15)\n",
    "plt.xlabel('counter factual cohort', fontsize= 15)\n",
    "plt.show()"
   ]
  },
  {
   "cell_type": "code",
   "execution_count": 46,
   "id": "e2f49d44-4b08-40d7-ab10-176484d823a5",
   "metadata": {},
   "outputs": [
    {
     "name": "stdout",
     "output_type": "stream",
     "text": [
      "810.8333333333334\n",
      "0.8004277722935176\n"
     ]
    }
   ],
   "source": [
    "print(sum(years_gained))\n",
    "print(np.mean(years_gained))"
   ]
  },
  {
   "cell_type": "code",
   "execution_count": 47,
   "id": "53f6be71-7039-4dee-90ed-f46c1bb3bfc6",
   "metadata": {},
   "outputs": [
    {
     "data": {
      "text/plain": [
       "<AxesSubplot:ylabel='Density'>"
      ]
     },
     "execution_count": 47,
     "metadata": {},
     "output_type": "execute_result"
    },
    {
     "data": {
      "image/png": "[encoded data removed]",
      "text/plain": [
       "<Figure size 432x288 with 1 Axes>"
      ]
     },
     "metadata": {
      "needs_background": "light"
     },
     "output_type": "display_data"
    }
   ],
   "source": [
    "plt.hist(years_gained, bins=50, alpha = 0.3, density = True, color = 'b')\n",
    "pd.Series(years_gained).plot(kind = 'kde', color = 'b')"
   ]
  }
 ],
 "metadata": {
  "kernelspec": {
   "display_name": "py39",
   "language": "python",
   "name": "py39"
  },
  "language_info": {
   "codemirror_mode": {
    "name": "ipython",
    "version": 3
   },
   "file_extension": ".py",
   "mimetype": "text/x-python",
   "name": "python",
   "nbconvert_exporter": "python",
   "pygments_lexer": "ipython3",
   "version": "3.9.0"
  }
 },
 "nbformat": 4,
 "nbformat_minor": 5
}
